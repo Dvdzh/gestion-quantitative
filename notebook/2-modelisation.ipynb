{
 "cells": [
  {
   "cell_type": "markdown",
   "id": "345e6dd1",
   "metadata": {},
   "source": [
    "# 1. Entrainement + Score / Matrice de confusion "
   ]
  },
  {
   "cell_type": "code",
   "execution_count": 23,
   "id": "5784573b",
   "metadata": {},
   "outputs": [],
   "source": [
    "from skl2onnx import convert_sklearn\n",
    "from skl2onnx.common.data_types import FloatTensorType\n",
    "import os\n",
    "\n",
    "# Répertoire pour sauvegarder les modèles ONNX\n",
    "onnx_dir = os.path.dirname(os.getcwd()) + \"/models\"\n",
    "os.makedirs(onnx_dir, exist_ok=True)\n",
    "\n",
    "# Sauvegarder les modèles ONNX\n",
    "def save_model_onnx(name, model, path, initial_type):\n",
    "    # initial_type = [(\"float_input\", FloatTensorType([None, X_train.shape[1]]))]\n",
    "    onnx_model = convert_sklearn(model, initial_types=initial_type)\n",
    "    onnx_path = os.path.join(path, f\"{name}.onnx\")\n",
    "    with open(onnx_path, \"wb\") as f:\n",
    "        f.write(onnx_model.SerializeToString())\n",
    "    print(f\"Model {name} saved to {onnx_path}\")"
   ]
  },
  {
   "cell_type": "code",
   "execution_count": null,
   "id": "f8c181e5",
   "metadata": {},
   "outputs": [
    {
     "name": "stdout",
     "output_type": "stream",
     "text": [
      "\n",
      "========================  AAPL  ========================\n",
      "\n"
     ]
    },
    {
     "name": "stderr",
     "output_type": "stream",
     "text": [
      "/Users/davidzhu/Local/gestion-quantitative/.venv/lib/python3.11/site-packages/sklearn/utils/validation.py:1408: DataConversionWarning: A column-vector y was passed when a 1d array was expected. Please change the shape of y to (n_samples, ), for example using ravel().\n",
      "  y = column_or_1d(y, warn=True)\n",
      "/var/folders/g5/7jz6q13d1lvdvrgms18qwq780000gn/T/ipykernel_41633/142237171.py:123: FutureWarning: The behavior of DataFrame concatenation with empty or all-NA entries is deprecated. In a future version, this will no longer exclude empty or all-NA columns when determining the result dtypes. To retain the old behavior, exclude the relevant entries before the concat operation.\n",
      "  results_df = pd.concat([results_df, pd.DataFrame({\n",
      "/Users/davidzhu/Local/gestion-quantitative/.venv/lib/python3.11/site-packages/sklearn/base.py:1389: DataConversionWarning: A column-vector y was passed when a 1d array was expected. Please change the shape of y to (n_samples,), for example using ravel().\n",
      "  return fit_method(estimator, *args, **kwargs)\n"
     ]
    },
    {
     "name": "stdout",
     "output_type": "stream",
     "text": [
      "--- Logistic ---\n",
      "Matrice de confusion\n",
      " [[  4 224]\n",
      " [  5 285]]\n",
      "Accuracy  : 0.558\n",
      "Precision : 0.560 | Recall : 0.983 | F1 : 0.713\n",
      "\n",
      "Model Logistic saved to /Users/davidzhu/Local/gestion-quantitative/models/Logistic.onnx\n",
      "--- DecisionTree ---\n",
      "Matrice de confusion\n",
      " [[ 41 187]\n",
      " [ 45 245]]\n",
      "Accuracy  : 0.552\n",
      "Precision : 0.567 | Recall : 0.845 | F1 : 0.679\n",
      "\n",
      "Model DecisionTree saved to /Users/davidzhu/Local/gestion-quantitative/models/DecisionTree.onnx\n",
      "--- RandomForest ---\n",
      "Matrice de confusion\n",
      " [[  8 220]\n",
      " [ 16 274]]\n",
      "Accuracy  : 0.544\n",
      "Precision : 0.555 | Recall : 0.945 | F1 : 0.699\n",
      "\n",
      "Model RandomForest saved to /Users/davidzhu/Local/gestion-quantitative/models/RandomForest.onnx\n"
     ]
    },
    {
     "name": "stderr",
     "output_type": "stream",
     "text": [
      "/Users/davidzhu/Local/gestion-quantitative/.venv/lib/python3.11/site-packages/sklearn/preprocessing/_label.py:110: DataConversionWarning: A column-vector y was passed when a 1d array was expected. Please change the shape of y to (n_samples, ), for example using ravel().\n",
      "  y = column_or_1d(y, warn=True)\n"
     ]
    },
    {
     "name": "stdout",
     "output_type": "stream",
     "text": [
      "--- GradientBoosting ---\n",
      "Matrice de confusion\n",
      " [[ 25 203]\n",
      " [ 38 252]]\n",
      "Accuracy  : 0.535\n",
      "Precision : 0.554 | Recall : 0.869 | F1 : 0.677\n",
      "\n",
      "Model GradientBoosting saved to /Users/davidzhu/Local/gestion-quantitative/models/GradientBoosting.onnx\n",
      "\n",
      "========================  MSFT  ========================\n",
      "\n"
     ]
    },
    {
     "name": "stderr",
     "output_type": "stream",
     "text": [
      "/Users/davidzhu/Local/gestion-quantitative/.venv/lib/python3.11/site-packages/sklearn/utils/validation.py:1408: DataConversionWarning: A column-vector y was passed when a 1d array was expected. Please change the shape of y to (n_samples, ), for example using ravel().\n",
      "  y = column_or_1d(y, warn=True)\n",
      "/Users/davidzhu/Local/gestion-quantitative/.venv/lib/python3.11/site-packages/sklearn/base.py:1389: DataConversionWarning: A column-vector y was passed when a 1d array was expected. Please change the shape of y to (n_samples,), for example using ravel().\n",
      "  return fit_method(estimator, *args, **kwargs)\n"
     ]
    },
    {
     "name": "stdout",
     "output_type": "stream",
     "text": [
      "--- Logistic ---\n",
      "Matrice de confusion\n",
      " [[  1 223]\n",
      " [  2 292]]\n",
      "Accuracy  : 0.566\n",
      "Precision : 0.567 | Recall : 0.993 | F1 : 0.722\n",
      "\n",
      "Model Logistic saved to /Users/davidzhu/Local/gestion-quantitative/models/Logistic.onnx\n",
      "--- DecisionTree ---\n",
      "Matrice de confusion\n",
      " [[ 37 187]\n",
      " [ 45 249]]\n",
      "Accuracy  : 0.552\n",
      "Precision : 0.571 | Recall : 0.847 | F1 : 0.682\n",
      "\n",
      "Model DecisionTree saved to /Users/davidzhu/Local/gestion-quantitative/models/DecisionTree.onnx\n",
      "--- RandomForest ---\n",
      "Matrice de confusion\n",
      " [[  9 215]\n",
      " [ 20 274]]\n",
      "Accuracy  : 0.546\n",
      "Precision : 0.560 | Recall : 0.932 | F1 : 0.700\n",
      "\n",
      "Model RandomForest saved to /Users/davidzhu/Local/gestion-quantitative/models/RandomForest.onnx\n"
     ]
    },
    {
     "name": "stderr",
     "output_type": "stream",
     "text": [
      "/Users/davidzhu/Local/gestion-quantitative/.venv/lib/python3.11/site-packages/sklearn/preprocessing/_label.py:110: DataConversionWarning: A column-vector y was passed when a 1d array was expected. Please change the shape of y to (n_samples, ), for example using ravel().\n",
      "  y = column_or_1d(y, warn=True)\n"
     ]
    },
    {
     "name": "stdout",
     "output_type": "stream",
     "text": [
      "--- GradientBoosting ---\n",
      "Matrice de confusion\n",
      " [[ 29 195]\n",
      " [ 43 251]]\n",
      "Accuracy  : 0.541\n",
      "Precision : 0.563 | Recall : 0.854 | F1 : 0.678\n",
      "\n",
      "Model GradientBoosting saved to /Users/davidzhu/Local/gestion-quantitative/models/GradientBoosting.onnx\n",
      "\n",
      "========================  GOOGL  ========================\n",
      "\n"
     ]
    },
    {
     "name": "stderr",
     "output_type": "stream",
     "text": [
      "/Users/davidzhu/Local/gestion-quantitative/.venv/lib/python3.11/site-packages/sklearn/utils/validation.py:1408: DataConversionWarning: A column-vector y was passed when a 1d array was expected. Please change the shape of y to (n_samples, ), for example using ravel().\n",
      "  y = column_or_1d(y, warn=True)\n",
      "/Users/davidzhu/Local/gestion-quantitative/.venv/lib/python3.11/site-packages/sklearn/base.py:1389: DataConversionWarning: A column-vector y was passed when a 1d array was expected. Please change the shape of y to (n_samples,), for example using ravel().\n",
      "  return fit_method(estimator, *args, **kwargs)\n"
     ]
    },
    {
     "name": "stdout",
     "output_type": "stream",
     "text": [
      "--- Logistic ---\n",
      "Matrice de confusion\n",
      " [[ 13 218]\n",
      " [  4 283]]\n",
      "Accuracy  : 0.571\n",
      "Precision : 0.565 | Recall : 0.986 | F1 : 0.718\n",
      "\n",
      "Model Logistic saved to /Users/davidzhu/Local/gestion-quantitative/models/Logistic.onnx\n",
      "--- DecisionTree ---\n",
      "Matrice de confusion\n",
      " [[ 50 181]\n",
      " [ 64 223]]\n",
      "Accuracy  : 0.527\n",
      "Precision : 0.552 | Recall : 0.777 | F1 : 0.645\n",
      "\n",
      "Model DecisionTree saved to /Users/davidzhu/Local/gestion-quantitative/models/DecisionTree.onnx\n",
      "--- RandomForest ---\n",
      "Matrice de confusion\n",
      " [[ 31 200]\n",
      " [ 28 259]]\n",
      "Accuracy  : 0.560\n",
      "Precision : 0.564 | Recall : 0.902 | F1 : 0.694\n",
      "\n",
      "Model RandomForest saved to /Users/davidzhu/Local/gestion-quantitative/models/RandomForest.onnx\n"
     ]
    },
    {
     "name": "stderr",
     "output_type": "stream",
     "text": [
      "/Users/davidzhu/Local/gestion-quantitative/.venv/lib/python3.11/site-packages/sklearn/preprocessing/_label.py:110: DataConversionWarning: A column-vector y was passed when a 1d array was expected. Please change the shape of y to (n_samples, ), for example using ravel().\n",
      "  y = column_or_1d(y, warn=True)\n"
     ]
    },
    {
     "name": "stdout",
     "output_type": "stream",
     "text": [
      "--- GradientBoosting ---\n",
      "Matrice de confusion\n",
      " [[ 48 183]\n",
      " [ 53 234]]\n",
      "Accuracy  : 0.544\n",
      "Precision : 0.561 | Recall : 0.815 | F1 : 0.665\n",
      "\n",
      "Model GradientBoosting saved to /Users/davidzhu/Local/gestion-quantitative/models/GradientBoosting.onnx\n"
     ]
    }
   ],
   "source": [
    "import yfinance as yf\n",
    "import pandas as pd\n",
    "import numpy as np\n",
    "from sklearn.metrics import confusion_matrix, classification_report\n",
    "from sklearn.linear_model import LogisticRegression\n",
    "from sklearn.tree import DecisionTreeClassifier\n",
    "from sklearn.ensemble import RandomForestClassifier, GradientBoostingClassifier\n",
    "from sklearn.preprocessing import StandardScaler\n",
    "from sklearn.pipeline import make_pipeline\n",
    "from skl2onnx.common.data_types import FloatTensorType\n",
    "import os \n",
    "\n",
    "# ------------------------------------------------------------------\n",
    "# 1. Paramètres généraux\n",
    "# ------------------------------------------------------------------\n",
    "TICKERS = [\"AAPL\", \"MSFT\", \"GOOGL\"]\n",
    "LOOK_AHEAD = 5          # horizon de prédiction (jours)\n",
    "TRAIN_RATIO = 0.80      # fraction chronologique pour le train-set\n",
    "SEED = 42\n",
    "\n",
    "# Préparer les répertoires de sauvegarde\n",
    "prepared_data_path  = os.path.dirname(os.getcwd()) + \"/data/modelisation/prepared_data\"\n",
    "results_path        = os.path.dirname(os.getcwd()) + \"/data/modelisation/results\"\n",
    "training_data_path  = os.path.dirname(os.getcwd()) + \"/data/modelisation/training_data\"\n",
    "os.makedirs(prepared_data_path, exist_ok=True)\n",
    "os.makedirs(results_path, exist_ok=True)\n",
    "os.makedirs(training_data_path, exist_ok=True)\n",
    "\n",
    "# ------------------------------------------------------------------\n",
    "# 2. Fonction utilitaire : features + label\n",
    "# ------------------------------------------------------------------\n",
    "def prepare_data(df: pd.DataFrame) -> pd.DataFrame:\n",
    "    df = df.copy()\n",
    "    # Label : prix dans 5 jours supérieur au prix courant ?\n",
    "    df[\"future_close\"] = df[\"Close\"].shift(-LOOK_AHEAD)\n",
    "    df[\"target\"] = (df[\"future_close\"] > df[\"Close\"]).astype(int)\n",
    "\n",
    "    # Features (exemples simples, extensibles) ────────────────\n",
    "    df[\"ret1\"]  = np.log(df[\"Close\"] / df[\"Close\"].shift(1))\n",
    "    df[\"ret3\"]  = np.log(df[\"Close\"] / df[\"Close\"].shift(3))\n",
    "    df[\"sma5\"]  = df[\"Close\"].rolling(5).mean() / df[\"Close\"] - 1\n",
    "    df[\"vol5\"]  = df[\"ret1\"].rolling(5).std()\n",
    "\n",
    "    df = df.dropna().reset_index(drop=True)  # retirer NaN\n",
    "    return df[[\"Date\", \"target\", \"ret1\", \"ret3\", \"sma5\", \"vol5\"]]\n",
    "\n",
    "# ------------------------------------------------------------------\n",
    "# 3. Modèles à tester\n",
    "#    (la logistique bénéficie d’une standardisation automatique)\n",
    "# ------------------------------------------------------------------\n",
    "MODELS = {\n",
    "    \"Logistic\": make_pipeline(StandardScaler(),\n",
    "                              LogisticRegression(random_state=SEED)),\n",
    "    \"DecisionTree\": DecisionTreeClassifier(random_state=SEED),\n",
    "    \"RandomForest\": RandomForestClassifier(random_state=SEED),\n",
    "    \"GradientBoosting\": GradientBoostingClassifier(random_state=SEED),\n",
    "}\n",
    "\n",
    "\n",
    "# ------------------------------------------------------------------\n",
    "# 4. Boucle principale par ticker\n",
    "# ------------------------------------------------------------------\n",
    "results_df = pd.DataFrame(columns=[\"ticker\", \"model\", \"accuracy\", \"precision\", \"recall\", \"f1_score\"])\n",
    "for tic in TICKERS:\n",
    "    print(f\"\\n========================  {tic}  ========================\\n\")\n",
    "    # 4-a. Télécharger et préparer\n",
    "    price = yf.download(tic, start=\"2015-01-01\", progress=False)\n",
    "    price = price.reset_index()                # yfinance retourne DatetimeIndex\n",
    "    price = price.droplevel(1, axis=1)  # supprimer le multi-index\n",
    "    data  = prepare_data(price)\n",
    "\n",
    "    # Save data to CSV for later use\n",
    "    data.to_csv(f\"{prepared_data_path}/{tic}_prepared.csv\", index=False)\n",
    "    X = data[[\"ret1\", \"ret3\", \"sma5\", \"vol5\"]]\n",
    "    y = data[\"target\"].values\n",
    "    \n",
    "    # 4-b. Split chronologique\n",
    "    cut = int(len(data) * TRAIN_RATIO)\n",
    "    X_train, X_test = X.iloc[:cut], X.iloc[cut:]\n",
    "    y_train, y_test = y[:cut], y[cut:]\n",
    "\n",
    "    # Saving train and test data\n",
    "    X_train.to_csv(f\"{training_data_path}/{tic}_X_train.csv\", index=False)\n",
    "    X_test.to_csv(f\"{training_data_path}/{tic}_X_test.csv\", index=False)\n",
    "    y_train = pd.DataFrame(y_train, columns=[\"target\"])\n",
    "    y_test = pd.DataFrame(y_test, columns=[\"target\"])\n",
    "\n",
    "    # 4-c. Entraînement + évaluation pour chaque modèle\n",
    "    for name, model in MODELS.items():\n",
    "        model.fit(X_train, y_train)\n",
    "        y_pred = model.predict(X_test)\n",
    "\n",
    "        cm = confusion_matrix(y_test, y_pred)\n",
    "        tn, fp, fn, tp = cm.ravel()\n",
    "        acc  = (tp + tn) / cm.sum()\n",
    "        prec = tp / (tp + fp) if (tp + fp) else 0\n",
    "        rec  = tp / (tp + fn) if (tp + fn) else 0\n",
    "        f1   = 2 * prec * rec / (prec + rec) if (prec + rec) else 0\n",
    "\n",
    "        print(f\"--- {name} ---\")\n",
    "        print(\"Matrice de confusion\\n\", cm)\n",
    "        print(f\"Accuracy  : {acc:.3f}\")\n",
    "        print(f\"Precision : {prec:.3f} | Recall : {rec:.3f} | F1 : {f1:.3f}\\n\")\n",
    "        \n",
    "        # Save results to DataFrame\n",
    "        results_df = pd.concat([results_df, pd.DataFrame({\n",
    "            \"ticker\": tic,\n",
    "            \"model\": name,\n",
    "            \"accuracy\": acc,\n",
    "            \"precision\": prec,\n",
    "            \"recall\": rec,\n",
    "            \"f1_score\": f1\n",
    "        }, index=[0])], ignore_index=True)\n",
    "\n",
    "        # Save model\n",
    "        initial_type = [(\"float_input\", FloatTensorType([None, X_train.shape[1]]))]\n",
    "        save_model_onnx(name, model, onnx_dir, initial_type)\n",
    "\n",
    "# Save results to CSV\n",
    "results_df.to_csv(f\"{results_path}/results.csv\", index=False)"
   ]
  },
  {
   "cell_type": "markdown",
   "id": "eb802732",
   "metadata": {},
   "source": [
    "# 2. Loading du modèle + inférence"
   ]
  },
  {
   "cell_type": "code",
   "execution_count": null,
   "id": "5dddcd17",
   "metadata": {},
   "outputs": [
    {
     "data": {
      "text/plain": [
       "array([1, 1, 1, 1, 1], dtype=int64)"
      ]
     },
     "metadata": {},
     "output_type": "display_data"
    },
    {
     "data": {
      "text/plain": [
       "array([1, 1, 0, 1, 0], dtype=int64)"
      ]
     },
     "metadata": {},
     "output_type": "display_data"
    },
    {
     "data": {
      "text/plain": [
       "array([1, 1, 0, 1, 1], dtype=int64)"
      ]
     },
     "metadata": {},
     "output_type": "display_data"
    },
    {
     "data": {
      "text/plain": [
       "array([1, 0, 0, 0, 1], dtype=int64)"
      ]
     },
     "metadata": {},
     "output_type": "display_data"
    }
   ],
   "source": [
    "import onnxruntime as ort\n",
    "import numpy as np\n",
    "\n",
    "def predict_onnx(model_path, X_test):\n",
    "    # Load the ONNX model\n",
    "    onnx_session = ort.InferenceSession(model_path)\n",
    "\n",
    "    # Prepare input data for inference\n",
    "    input_name = onnx_session.get_inputs()[0].name\n",
    "    output_name = onnx_session.get_outputs()[0].name\n",
    "\n",
    "    # Perform inference\n",
    "    predictions = onnx_session.run([output_name], {input_name: X_test})\n",
    "\n",
    "    return predictions[0]\n",
    "\n",
    "X_test_subset = X_test.to_numpy().astype(np.float32)[0:5]\n",
    "display(predict_onnx(onnx_dir + \"/Logistic.onnx\", X_test_subset))\n",
    "display(predict_onnx(onnx_dir + \"/RandomForest.onnx\", X_test_subset))\n",
    "display(predict_onnx(onnx_dir + \"/GradientBoosting.onnx\", X_test_subset))\n",
    "display(predict_onnx(onnx_dir + \"/DecisionTree.onnx\", X_test_subset))"
   ]
  },
  {
   "cell_type": "markdown",
   "id": "e3677820",
   "metadata": {},
   "source": [
    "# 3. Recherche d'hyperparamètres optimaux"
   ]
  },
  {
   "cell_type": "code",
   "execution_count": null,
   "id": "6d794c1e",
   "metadata": {},
   "outputs": [
    {
     "name": "stdout",
     "output_type": "stream",
     "text": [
      "\n",
      "========================  AAPL  ========================\n",
      "\n",
      "--- Logistic ---\n",
      "Fitting 5 folds for each of 12 candidates, totalling 60 fits\n"
     ]
    },
    {
     "name": "stderr",
     "output_type": "stream",
     "text": [
      "/var/folders/g5/7jz6q13d1lvdvrgms18qwq780000gn/T/ipykernel_41633/3152838910.py:120: FutureWarning: The behavior of DataFrame concatenation with empty or all-NA entries is deprecated. In a future version, this will no longer exclude empty or all-NA columns when determining the result dtypes. To retain the old behavior, exclude the relevant entries before the concat operation.\n",
      "  results_df = pd.concat([results_df, pd.DataFrame({\n"
     ]
    },
    {
     "name": "stdout",
     "output_type": "stream",
     "text": [
      "Model Logistic saved to /Users/davidzhu/Local/gestion-quantitative/models/Logistic.onnx\n",
      "--- DecisionTree ---\n",
      "Fitting 5 folds for each of 18 candidates, totalling 90 fits\n",
      "Model DecisionTree saved to /Users/davidzhu/Local/gestion-quantitative/models/DecisionTree.onnx\n",
      "--- RandomForest ---\n",
      "Fitting 5 folds for each of 16 candidates, totalling 80 fits\n",
      "Model RandomForest saved to /Users/davidzhu/Local/gestion-quantitative/models/RandomForest.onnx\n",
      "--- GradientBoosting ---\n",
      "Fitting 5 folds for each of 9 candidates, totalling 45 fits\n",
      "Model GradientBoosting saved to /Users/davidzhu/Local/gestion-quantitative/models/GradientBoosting.onnx\n",
      "\n",
      "========================  MSFT  ========================\n",
      "\n",
      "--- Logistic ---\n",
      "Fitting 5 folds for each of 12 candidates, totalling 60 fits\n",
      "Model Logistic saved to /Users/davidzhu/Local/gestion-quantitative/models/Logistic.onnx\n",
      "--- DecisionTree ---\n",
      "Fitting 5 folds for each of 18 candidates, totalling 90 fits\n",
      "Model DecisionTree saved to /Users/davidzhu/Local/gestion-quantitative/models/DecisionTree.onnx\n",
      "--- RandomForest ---\n",
      "Fitting 5 folds for each of 16 candidates, totalling 80 fits\n",
      "Model RandomForest saved to /Users/davidzhu/Local/gestion-quantitative/models/RandomForest.onnx\n",
      "--- GradientBoosting ---\n",
      "Fitting 5 folds for each of 9 candidates, totalling 45 fits\n",
      "Model GradientBoosting saved to /Users/davidzhu/Local/gestion-quantitative/models/GradientBoosting.onnx\n",
      "\n",
      "========================  GOOGL  ========================\n",
      "\n",
      "--- Logistic ---\n",
      "Fitting 5 folds for each of 12 candidates, totalling 60 fits\n",
      "Model Logistic saved to /Users/davidzhu/Local/gestion-quantitative/models/Logistic.onnx\n",
      "--- DecisionTree ---\n",
      "Fitting 5 folds for each of 18 candidates, totalling 90 fits\n",
      "Model DecisionTree saved to /Users/davidzhu/Local/gestion-quantitative/models/DecisionTree.onnx\n",
      "--- RandomForest ---\n",
      "Fitting 5 folds for each of 16 candidates, totalling 80 fits\n",
      "Model RandomForest saved to /Users/davidzhu/Local/gestion-quantitative/models/RandomForest.onnx\n",
      "--- GradientBoosting ---\n",
      "Fitting 5 folds for each of 9 candidates, totalling 45 fits\n",
      "Model GradientBoosting saved to /Users/davidzhu/Local/gestion-quantitative/models/GradientBoosting.onnx\n"
     ]
    }
   ],
   "source": [
    "from sklearn.model_selection import GridSearchCV\n",
    "from sklearn.metrics import make_scorer, accuracy_score\n",
    "import pandas as pd\n",
    "import numpy as np\n",
    "from sklearn.linear_model import LogisticRegression\n",
    "from sklearn.tree import DecisionTreeClassifier\n",
    "from sklearn.ensemble import RandomForestClassifier, GradientBoostingClassifier\n",
    "from sklearn.pipeline import Pipeline\n",
    "from sklearn.preprocessing import StandardScaler\n",
    "\n",
    "# ------------------------------------------------------------------\n",
    "# 1. Définir les espaces d'hyperparamètres pour chaque modèle\n",
    "# ------------------------------------------------------------------\n",
    "param_grids = {\n",
    "    \"Logistic\": {\n",
    "        \"model__penalty\": [\"l2\"],\n",
    "        \"model__C\": [0.1, 1, 10],\n",
    "        \"model__solver\": [\"lbfgs\", \"liblinear\"],\n",
    "        \"model__max_iter\": [100, 500],\n",
    "    },\n",
    "    \"DecisionTree\": {\n",
    "        \"model__max_depth\": [3, 5, 8],\n",
    "        \"model__min_samples_leaf\": [1, 5, 10],\n",
    "        \"model__criterion\": [\"gini\", \"entropy\"],\n",
    "    },\n",
    "    \"RandomForest\": {\n",
    "        \"model__n_estimators\": [200, 500],\n",
    "        \"model__max_depth\": [None, 10],\n",
    "        \"model__min_samples_leaf\": [1, 3],\n",
    "        \"model__bootstrap\": [True, False],\n",
    "    },\n",
    "    \"GradientBoosting\": {\n",
    "        \"model__n_estimators\": [100, 300, 500],\n",
    "        \"model__learning_rate\": [0.05, 0.1, 0.2],\n",
    "        \"model__max_depth\": [2, 3, 4],\n",
    "        # \"model__min_samples_leaf\": [1, 3],\n",
    "        # \"model__subsample\": [0.8, 1.0],\n",
    "        # \"model__max_features\": [\"sqrt\", \"log2\"],\n",
    "    },\n",
    "}\n",
    "# ------------------------------------------------------------------\n",
    "# 2. Fonction utilitaire : créer un pipeline avec standardisation\n",
    "# ------------------------------------------------------------------\n",
    "def create_pipeline(model):\n",
    "    if model == \"Logistic\":\n",
    "        return Pipeline([\n",
    "            (\"scaler\", StandardScaler()),\n",
    "            (\"model\", LogisticRegression(max_iter=1000, random_state=SEED))\n",
    "        ])\n",
    "    elif model == \"DecisionTree\":\n",
    "        return Pipeline([\n",
    "            (\"model\", DecisionTreeClassifier(random_state=SEED))\n",
    "        ])\n",
    "    elif model == \"RandomForest\":\n",
    "        return Pipeline([\n",
    "            (\"model\", RandomForestClassifier(random_state=SEED))\n",
    "        ])\n",
    "    elif model == \"GradientBoosting\":\n",
    "        return Pipeline([\n",
    "            (\"model\", GradientBoostingClassifier(random_state=SEED))\n",
    "        ])\n",
    "    else:\n",
    "        raise ValueError(f\"Unknown model: {model}\")\n",
    "# ------------------------------------------------------------------\n",
    "# 3. Boucle principale par ticker\n",
    "# ------------------------------------------------------------------\n",
    "results_df = pd.DataFrame(columns=[\"ticker\", \"model\", \"accuracy\", \"precision\", \"recall\", \"f1_score\"])\n",
    "for tic in TICKERS:\n",
    "    print(f\"\\n========================  {tic}  ========================\\n\")\n",
    "    # 3-a. Télécharger et préparer\n",
    "    price = yf.download(tic, start=\"2015-01-01\", progress=False)\n",
    "    price = price.reset_index()                # yfinance retourne DatetimeIndex\n",
    "    price = price.droplevel(1, axis=1)  # supprimer le multi-index\n",
    "    data  = prepare_data(price)\n",
    "\n",
    "    # Save data to CSV for later use\n",
    "    data.to_csv(f\"{prepared_data_path}/{tic}_prepared.csv\", index=False)\n",
    "    X = data[[\"ret1\", \"ret3\", \"sma5\", \"vol5\"]]\n",
    "    y = data[\"target\"].values\n",
    "    \n",
    "    # 3-b. Split chronologique\n",
    "    cut = int(len(data) * TRAIN_RATIO)\n",
    "    X_train, X_test = X.iloc[:cut], X.iloc[cut:]\n",
    "    y_train, y_test = y[:cut], y[cut:]\n",
    "\n",
    "    # Saving train and test data\n",
    "    X_train.to_csv(f\"{training_data_path}/{tic}_X_train.csv\", index=False)\n",
    "    X_test.to_csv(f\"{training_data_path}/{tic}_X_test.csv\", index=False)\n",
    "    y_train = pd.DataFrame(y_train, columns=[\"target\"])\n",
    "    y_test = pd.DataFrame(y_test, columns=[\"target\"])\n",
    "\n",
    "    # 3-c. Entraînement + évaluation pour chaque modèle\n",
    "    for name in MODELS.keys():\n",
    "        print(f\"--- {name} ---\")\n",
    "        model_pipeline = create_pipeline(name)\n",
    "\n",
    "        # GridSearchCV pour l'optimisation des hyperparamètres\n",
    "        grid_search = GridSearchCV(\n",
    "            model_pipeline,\n",
    "            param_grids[name],\n",
    "            scoring=make_scorer(accuracy_score),\n",
    "            cv=5,\n",
    "            n_jobs=-1,\n",
    "            verbose=1,\n",
    "        )\n",
    "\n",
    "        grid_search.fit(X_train, y_train.values.ravel())\n",
    "\n",
    "        # Conserver uniquement le meilleur modèle\n",
    "        best_model = grid_search.best_estimator_\n",
    "        y_pred = best_model.predict(X_test)\n",
    "\n",
    "        cm = confusion_matrix(y_test, y_pred)\n",
    "        tn, fp, fn, tp = cm.ravel()\n",
    "        acc  = (tp + tn) / cm.sum()\n",
    "        prec = tp / (tp + fp) if (tp + fp) else 0\n",
    "        rec  = tp / (tp + fn) if (tp + fn) else 0\n",
    "        f1  = 2 * prec * rec / (prec + rec) if (prec + rec) else 0\n",
    "\n",
    "        # Save results to DataFrame\n",
    "        results_df = pd.concat([results_df, pd.DataFrame({\n",
    "            \"ticker\": tic,\n",
    "            \"model\": name,\n",
    "            \"accuracy\": acc,\n",
    "            \"precision\": prec,\n",
    "            \"recall\": rec,\n",
    "            \"f1_score\": f1\n",
    "        }, index=[0])], ignore_index=True)\n",
    "\n",
    "        # Save model\n",
    "        initial_type = [(\"float_input\", FloatTensorType([None, X_train.shape[1]]))]\n",
    "        save_model_onnx(name, best_model, onnx_dir, initial_type)\n",
    "\n",
    "        # Print les meilleurs hyperparamètres\n",
    "        print(\"Best hyperparameters:\", grid_search.best_params_)\n",
    "        print(\"Best score:\", grid_search.best_score_)\n",
    "        \n",
    "# Save results to CSV\n",
    "results_df.to_csv(f\"{results_path}/results_optimized.csv\", index=False)"
   ]
  },
  {
   "cell_type": "code",
   "execution_count": 24,
   "id": "fed79937",
   "metadata": {},
   "outputs": [],
   "source": [
    "# grid search.best_params_"
   ]
  },
  {
   "cell_type": "code",
   "execution_count": null,
   "id": "fda48238",
   "metadata": {},
   "outputs": [],
   "source": []
  }
 ],
 "metadata": {
  "kernelspec": {
   "display_name": ".venv",
   "language": "python",
   "name": "python3"
  },
  "language_info": {
   "codemirror_mode": {
    "name": "ipython",
    "version": 3
   },
   "file_extension": ".py",
   "mimetype": "text/x-python",
   "name": "python",
   "nbconvert_exporter": "python",
   "pygments_lexer": "ipython3",
   "version": "3.11.12"
  }
 },
 "nbformat": 4,
 "nbformat_minor": 5
}
