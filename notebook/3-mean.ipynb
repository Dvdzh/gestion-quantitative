{
 "cells": [
  {
   "cell_type": "code",
   "execution_count": 6,
   "id": "e1cf1dba",
   "metadata": {},
   "outputs": [
    {
     "data": {
      "text/plain": [
       "['MSFT_Momentum1DayStrategy_holdbars5_stats.csv',\n",
       " 'AAPL_Momentum1DayStrategy_holdbars5_trades.csv',\n",
       " 'MSFT_Momentum1DayStrategy_holdbars5_trades.csv',\n",
       " 'AAPL_StochasticRStrategy_holdbars1_stats.csv',\n",
       " 'AAPL_BollingerStrategy_holdbars1_stats.csv',\n",
       " 'GOOGL_Momentum5DaysStrategy_holdbars5_stats.csv',\n",
       " 'GOOGL_Momentum5DaysStrategy_holdbars1_trades.csv',\n",
       " 'GOOGL_TDIStrategy_holdbars5_stats.csv',\n",
       " 'MSFT_RSIStrategy_holdbars5_trades.csv',\n",
       " 'AAPL_StochasticRStrategy_holdbars1_trades.csv',\n",
       " 'GOOGL_RSIStrategy_holdbars1_trades.csv',\n",
       " 'AAPL_BollingerStrategy_holdbars5_trades.csv',\n",
       " 'GOOGL_Momentum1DayStrategy_holdbars5_stats.csv',\n",
       " 'GOOGL_RSIStrategy_holdbars5_stats.csv',\n",
       " 'AAPL_RSIStrategy_holdbars5_trades.csv',\n",
       " 'AAPL_Momentum5DaysStrategy_holdbars1_stats.csv',\n",
       " 'MSFT_Momentum5DaysStrategy_holdbars1_stats.csv',\n",
       " 'MSFT_StochasticRStrategy_holdbars5_stats.csv',\n",
       " 'AAPL_Momentum5DaysStrategy_holdbars5_trades.csv',\n",
       " 'GOOGL_BollingerStrategy_holdbars5_trades.csv',\n",
       " 'GOOGL_StochasticRStrategy_holdbars1_stats.csv',\n",
       " 'MSFT_TDIStrategy_holdbars1_trades.csv',\n",
       " 'MSFT_TDIStrategy_holdbars1_stats.csv',\n",
       " 'AAPL_TDIStrategy_holdbars1_trades.csv',\n",
       " 'AAPL_TDIStrategy_holdbars5_stats.csv',\n",
       " 'GOOGL_TDIStrategy_holdbars5_trades.csv',\n",
       " 'GOOGL_StochasticRStrategy_holdbars5_trades.csv',\n",
       " 'MSFT_BollingerStrategy_holdbars5_stats.csv',\n",
       " 'GOOGL_Momentum1DayStrategy_holdbars1_trades.csv',\n",
       " 'MSFT_StochasticRStrategy_holdbars5_trades.csv',\n",
       " 'MSFT_RSIStrategy_holdbars1_stats.csv',\n",
       " 'GOOGL_BollingerStrategy_holdbars5_stats.csv',\n",
       " 'AAPL_Momentum1DayStrategy_holdbars1_stats.csv',\n",
       " 'AAPL_RSIStrategy_holdbars5_stats.csv',\n",
       " 'MSFT_Momentum5DaysStrategy_holdbars5_trades.csv',\n",
       " 'MSFT_BollingerStrategy_holdbars1_trades.csv',\n",
       " 'GOOGL_Momentum5DaysStrategy_holdbars5_trades.csv',\n",
       " 'GOOGL_Momentum1DayStrategy_holdbars1_stats.csv',\n",
       " 'AAPL_Momentum1DayStrategy_holdbars1_trades.csv',\n",
       " 'GOOGL_RSIStrategy_holdbars1_stats.csv',\n",
       " 'MSFT_Momentum1DayStrategy_holdbars1_trades.csv',\n",
       " 'GOOGL_RSIStrategy_holdbars5_trades.csv',\n",
       " 'AAPL_BollingerStrategy_holdbars1_trades.csv',\n",
       " 'MSFT_Momentum1DayStrategy_holdbars1_stats.csv',\n",
       " 'AAPL_StochasticRStrategy_holdbars5_stats.csv',\n",
       " 'AAPL_RSIStrategy_holdbars1_trades.csv',\n",
       " 'GOOGL_Momentum5DaysStrategy_holdbars1_stats.csv',\n",
       " 'AAPL_BollingerStrategy_holdbars5_stats.csv',\n",
       " 'MSFT_RSIStrategy_holdbars1_trades.csv',\n",
       " 'AAPL_StochasticRStrategy_holdbars5_trades.csv',\n",
       " 'GOOGL_TDIStrategy_holdbars1_stats.csv',\n",
       " 'AAPL_TDIStrategy_holdbars5_trades.csv',\n",
       " 'MSFT_BollingerStrategy_holdbars1_stats.csv',\n",
       " 'GOOGL_TDIStrategy_holdbars1_trades.csv',\n",
       " 'MSFT_RSIStrategy_holdbars5_stats.csv',\n",
       " 'GOOGL_StochasticRStrategy_holdbars1_trades.csv',\n",
       " 'AAPL_Momentum1DayStrategy_holdbars5_stats.csv',\n",
       " 'GOOGL_BollingerStrategy_holdbars1_stats.csv',\n",
       " 'AAPL_RSIStrategy_holdbars1_stats.csv',\n",
       " 'AAPL_Momentum5DaysStrategy_holdbars1_trades.csv',\n",
       " 'GOOGL_BollingerStrategy_holdbars1_trades.csv',\n",
       " 'MSFT_TDIStrategy_holdbars5_trades.csv',\n",
       " 'MSFT_StochasticRStrategy_holdbars1_stats.csv',\n",
       " 'MSFT_Momentum5DaysStrategy_holdbars5_stats.csv',\n",
       " 'AAPL_Momentum5DaysStrategy_holdbars5_stats.csv',\n",
       " 'MSFT_Momentum5DaysStrategy_holdbars1_trades.csv',\n",
       " 'GOOGL_StochasticRStrategy_holdbars5_stats.csv',\n",
       " 'MSFT_TDIStrategy_holdbars5_stats.csv',\n",
       " 'MSFT_BollingerStrategy_holdbars5_trades.csv',\n",
       " 'AAPL_TDIStrategy_holdbars1_stats.csv',\n",
       " 'MSFT_StochasticRStrategy_holdbars1_trades.csv',\n",
       " 'GOOGL_Momentum1DayStrategy_holdbars5_trades.csv']"
      ]
     },
     "execution_count": 6,
     "metadata": {},
     "output_type": "execute_result"
    }
   ],
   "source": [
    "# read all csv in data/csv_results\n",
    "import os\n",
    "import pandas as pd\n",
    "\n",
    "os.listdir('../data/csv_results')"
   ]
  },
  {
   "cell_type": "code",
   "execution_count": 8,
   "id": "5614d005",
   "metadata": {},
   "outputs": [
    {
     "data": {
      "text/plain": [
       "'/Users/davidzhu/Local/gestion-quantitative/data/csv_results'"
      ]
     },
     "execution_count": 8,
     "metadata": {},
     "output_type": "execute_result"
    }
   ],
   "source": [
    "# get cwd \n",
    "os.path.dirname(os.getcwd()) + \"/data/csv_results\""
   ]
  },
  {
   "cell_type": "code",
   "execution_count": 17,
   "id": "3d93b742",
   "metadata": {},
   "outputs": [],
   "source": [
    "strategy_list = [\n",
    "    \"Bollinger\",\n",
    "    \"Momemtum1Day\",\n",
    "    \"Momemtum5Day\",\n",
    "    \"RSI\",\n",
    "    \"TDI\",\n",
    "    \"StochasticR\"\n",
    "]\n",
    "hold_list = [\n",
    "    \"1\",\n",
    "    \"5\"\n",
    "]\n",
    "ticker_list = [\n",
    "    \"AAPL\",\n",
    "    \"GOOGL\",\n",
    "    \"MSFT\",\n",
    "]"
   ]
  },
  {
   "cell_type": "code",
   "execution_count": 18,
   "id": "891997db",
   "metadata": {},
   "outputs": [
    {
     "ename": "FileNotFoundError",
     "evalue": "[Errno 2] No such file or directory: '../data/csv_results/AAPL_Momemtum1DayStrategy_holdbars1_stats.csv'",
     "output_type": "error",
     "traceback": [
      "\u001b[31m---------------------------------------------------------------------------\u001b[39m",
      "\u001b[31mFileNotFoundError\u001b[39m                         Traceback (most recent call last)",
      "\u001b[36mCell\u001b[39m\u001b[36m \u001b[39m\u001b[32mIn[18]\u001b[39m\u001b[32m, line 8\u001b[39m\n\u001b[32m      5\u001b[39m \u001b[38;5;28;01mfor\u001b[39;00m strategy \u001b[38;5;129;01min\u001b[39;00m strategy_list:\n\u001b[32m      6\u001b[39m     \u001b[38;5;28;01mfor\u001b[39;00m holding_date \u001b[38;5;129;01min\u001b[39;00m hold_list:\n\u001b[32m      7\u001b[39m         \u001b[38;5;66;03m# read csv\u001b[39;00m\n\u001b[32m----> \u001b[39m\u001b[32m8\u001b[39m         stats_df = \u001b[43mpd\u001b[49m\u001b[43m.\u001b[49m\u001b[43mread_csv\u001b[49m\u001b[43m(\u001b[49m\u001b[33;43mf\u001b[39;49m\u001b[33;43m\"\u001b[39;49m\u001b[33;43m../data/csv_results/\u001b[39;49m\u001b[38;5;132;43;01m{\u001b[39;49;00m\u001b[43mTICKER\u001b[49m\u001b[38;5;132;43;01m}\u001b[39;49;00m\u001b[33;43m_\u001b[39;49m\u001b[38;5;132;43;01m{\u001b[39;49;00m\u001b[43mstrategy\u001b[49m\u001b[38;5;132;43;01m}\u001b[39;49;00m\u001b[33;43mStrategy_holdbars\u001b[39;49m\u001b[38;5;132;43;01m{\u001b[39;49;00m\u001b[43mholding_date\u001b[49m\u001b[38;5;132;43;01m}\u001b[39;49;00m\u001b[33;43m_stats.csv\u001b[39;49m\u001b[33;43m\"\u001b[39;49m\u001b[43m,\u001b[49m\u001b[43m \u001b[49m\u001b[43mindex_col\u001b[49m\u001b[43m=\u001b[49m\u001b[32;43m0\u001b[39;49m\u001b[43m)\u001b[49m\n\u001b[32m     10\u001b[39m         \u001b[38;5;66;03m# Concatenate the dataframes\u001b[39;00m\n\u001b[32m     11\u001b[39m         df = pd.concat([df, stats_df], axis=\u001b[32m1\u001b[39m)\n",
      "\u001b[36mFile \u001b[39m\u001b[32m~/Local/gestion-quantitative/.venv/lib/python3.11/site-packages/pandas/io/parsers/readers.py:1026\u001b[39m, in \u001b[36mread_csv\u001b[39m\u001b[34m(filepath_or_buffer, sep, delimiter, header, names, index_col, usecols, dtype, engine, converters, true_values, false_values, skipinitialspace, skiprows, skipfooter, nrows, na_values, keep_default_na, na_filter, verbose, skip_blank_lines, parse_dates, infer_datetime_format, keep_date_col, date_parser, date_format, dayfirst, cache_dates, iterator, chunksize, compression, thousands, decimal, lineterminator, quotechar, quoting, doublequote, escapechar, comment, encoding, encoding_errors, dialect, on_bad_lines, delim_whitespace, low_memory, memory_map, float_precision, storage_options, dtype_backend)\u001b[39m\n\u001b[32m   1013\u001b[39m kwds_defaults = _refine_defaults_read(\n\u001b[32m   1014\u001b[39m     dialect,\n\u001b[32m   1015\u001b[39m     delimiter,\n\u001b[32m   (...)\u001b[39m\u001b[32m   1022\u001b[39m     dtype_backend=dtype_backend,\n\u001b[32m   1023\u001b[39m )\n\u001b[32m   1024\u001b[39m kwds.update(kwds_defaults)\n\u001b[32m-> \u001b[39m\u001b[32m1026\u001b[39m \u001b[38;5;28;01mreturn\u001b[39;00m \u001b[43m_read\u001b[49m\u001b[43m(\u001b[49m\u001b[43mfilepath_or_buffer\u001b[49m\u001b[43m,\u001b[49m\u001b[43m \u001b[49m\u001b[43mkwds\u001b[49m\u001b[43m)\u001b[49m\n",
      "\u001b[36mFile \u001b[39m\u001b[32m~/Local/gestion-quantitative/.venv/lib/python3.11/site-packages/pandas/io/parsers/readers.py:620\u001b[39m, in \u001b[36m_read\u001b[39m\u001b[34m(filepath_or_buffer, kwds)\u001b[39m\n\u001b[32m    617\u001b[39m _validate_names(kwds.get(\u001b[33m\"\u001b[39m\u001b[33mnames\u001b[39m\u001b[33m\"\u001b[39m, \u001b[38;5;28;01mNone\u001b[39;00m))\n\u001b[32m    619\u001b[39m \u001b[38;5;66;03m# Create the parser.\u001b[39;00m\n\u001b[32m--> \u001b[39m\u001b[32m620\u001b[39m parser = \u001b[43mTextFileReader\u001b[49m\u001b[43m(\u001b[49m\u001b[43mfilepath_or_buffer\u001b[49m\u001b[43m,\u001b[49m\u001b[43m \u001b[49m\u001b[43m*\u001b[49m\u001b[43m*\u001b[49m\u001b[43mkwds\u001b[49m\u001b[43m)\u001b[49m\n\u001b[32m    622\u001b[39m \u001b[38;5;28;01mif\u001b[39;00m chunksize \u001b[38;5;129;01mor\u001b[39;00m iterator:\n\u001b[32m    623\u001b[39m     \u001b[38;5;28;01mreturn\u001b[39;00m parser\n",
      "\u001b[36mFile \u001b[39m\u001b[32m~/Local/gestion-quantitative/.venv/lib/python3.11/site-packages/pandas/io/parsers/readers.py:1620\u001b[39m, in \u001b[36mTextFileReader.__init__\u001b[39m\u001b[34m(self, f, engine, **kwds)\u001b[39m\n\u001b[32m   1617\u001b[39m     \u001b[38;5;28mself\u001b[39m.options[\u001b[33m\"\u001b[39m\u001b[33mhas_index_names\u001b[39m\u001b[33m\"\u001b[39m] = kwds[\u001b[33m\"\u001b[39m\u001b[33mhas_index_names\u001b[39m\u001b[33m\"\u001b[39m]\n\u001b[32m   1619\u001b[39m \u001b[38;5;28mself\u001b[39m.handles: IOHandles | \u001b[38;5;28;01mNone\u001b[39;00m = \u001b[38;5;28;01mNone\u001b[39;00m\n\u001b[32m-> \u001b[39m\u001b[32m1620\u001b[39m \u001b[38;5;28mself\u001b[39m._engine = \u001b[38;5;28;43mself\u001b[39;49m\u001b[43m.\u001b[49m\u001b[43m_make_engine\u001b[49m\u001b[43m(\u001b[49m\u001b[43mf\u001b[49m\u001b[43m,\u001b[49m\u001b[43m \u001b[49m\u001b[38;5;28;43mself\u001b[39;49m\u001b[43m.\u001b[49m\u001b[43mengine\u001b[49m\u001b[43m)\u001b[49m\n",
      "\u001b[36mFile \u001b[39m\u001b[32m~/Local/gestion-quantitative/.venv/lib/python3.11/site-packages/pandas/io/parsers/readers.py:1880\u001b[39m, in \u001b[36mTextFileReader._make_engine\u001b[39m\u001b[34m(self, f, engine)\u001b[39m\n\u001b[32m   1878\u001b[39m     \u001b[38;5;28;01mif\u001b[39;00m \u001b[33m\"\u001b[39m\u001b[33mb\u001b[39m\u001b[33m\"\u001b[39m \u001b[38;5;129;01mnot\u001b[39;00m \u001b[38;5;129;01min\u001b[39;00m mode:\n\u001b[32m   1879\u001b[39m         mode += \u001b[33m\"\u001b[39m\u001b[33mb\u001b[39m\u001b[33m\"\u001b[39m\n\u001b[32m-> \u001b[39m\u001b[32m1880\u001b[39m \u001b[38;5;28mself\u001b[39m.handles = \u001b[43mget_handle\u001b[49m\u001b[43m(\u001b[49m\n\u001b[32m   1881\u001b[39m \u001b[43m    \u001b[49m\u001b[43mf\u001b[49m\u001b[43m,\u001b[49m\n\u001b[32m   1882\u001b[39m \u001b[43m    \u001b[49m\u001b[43mmode\u001b[49m\u001b[43m,\u001b[49m\n\u001b[32m   1883\u001b[39m \u001b[43m    \u001b[49m\u001b[43mencoding\u001b[49m\u001b[43m=\u001b[49m\u001b[38;5;28;43mself\u001b[39;49m\u001b[43m.\u001b[49m\u001b[43moptions\u001b[49m\u001b[43m.\u001b[49m\u001b[43mget\u001b[49m\u001b[43m(\u001b[49m\u001b[33;43m\"\u001b[39;49m\u001b[33;43mencoding\u001b[39;49m\u001b[33;43m\"\u001b[39;49m\u001b[43m,\u001b[49m\u001b[43m \u001b[49m\u001b[38;5;28;43;01mNone\u001b[39;49;00m\u001b[43m)\u001b[49m\u001b[43m,\u001b[49m\n\u001b[32m   1884\u001b[39m \u001b[43m    \u001b[49m\u001b[43mcompression\u001b[49m\u001b[43m=\u001b[49m\u001b[38;5;28;43mself\u001b[39;49m\u001b[43m.\u001b[49m\u001b[43moptions\u001b[49m\u001b[43m.\u001b[49m\u001b[43mget\u001b[49m\u001b[43m(\u001b[49m\u001b[33;43m\"\u001b[39;49m\u001b[33;43mcompression\u001b[39;49m\u001b[33;43m\"\u001b[39;49m\u001b[43m,\u001b[49m\u001b[43m \u001b[49m\u001b[38;5;28;43;01mNone\u001b[39;49;00m\u001b[43m)\u001b[49m\u001b[43m,\u001b[49m\n\u001b[32m   1885\u001b[39m \u001b[43m    \u001b[49m\u001b[43mmemory_map\u001b[49m\u001b[43m=\u001b[49m\u001b[38;5;28;43mself\u001b[39;49m\u001b[43m.\u001b[49m\u001b[43moptions\u001b[49m\u001b[43m.\u001b[49m\u001b[43mget\u001b[49m\u001b[43m(\u001b[49m\u001b[33;43m\"\u001b[39;49m\u001b[33;43mmemory_map\u001b[39;49m\u001b[33;43m\"\u001b[39;49m\u001b[43m,\u001b[49m\u001b[43m \u001b[49m\u001b[38;5;28;43;01mFalse\u001b[39;49;00m\u001b[43m)\u001b[49m\u001b[43m,\u001b[49m\n\u001b[32m   1886\u001b[39m \u001b[43m    \u001b[49m\u001b[43mis_text\u001b[49m\u001b[43m=\u001b[49m\u001b[43mis_text\u001b[49m\u001b[43m,\u001b[49m\n\u001b[32m   1887\u001b[39m \u001b[43m    \u001b[49m\u001b[43merrors\u001b[49m\u001b[43m=\u001b[49m\u001b[38;5;28;43mself\u001b[39;49m\u001b[43m.\u001b[49m\u001b[43moptions\u001b[49m\u001b[43m.\u001b[49m\u001b[43mget\u001b[49m\u001b[43m(\u001b[49m\u001b[33;43m\"\u001b[39;49m\u001b[33;43mencoding_errors\u001b[39;49m\u001b[33;43m\"\u001b[39;49m\u001b[43m,\u001b[49m\u001b[43m \u001b[49m\u001b[33;43m\"\u001b[39;49m\u001b[33;43mstrict\u001b[39;49m\u001b[33;43m\"\u001b[39;49m\u001b[43m)\u001b[49m\u001b[43m,\u001b[49m\n\u001b[32m   1888\u001b[39m \u001b[43m    \u001b[49m\u001b[43mstorage_options\u001b[49m\u001b[43m=\u001b[49m\u001b[38;5;28;43mself\u001b[39;49m\u001b[43m.\u001b[49m\u001b[43moptions\u001b[49m\u001b[43m.\u001b[49m\u001b[43mget\u001b[49m\u001b[43m(\u001b[49m\u001b[33;43m\"\u001b[39;49m\u001b[33;43mstorage_options\u001b[39;49m\u001b[33;43m\"\u001b[39;49m\u001b[43m,\u001b[49m\u001b[43m \u001b[49m\u001b[38;5;28;43;01mNone\u001b[39;49;00m\u001b[43m)\u001b[49m\u001b[43m,\u001b[49m\n\u001b[32m   1889\u001b[39m \u001b[43m\u001b[49m\u001b[43m)\u001b[49m\n\u001b[32m   1890\u001b[39m \u001b[38;5;28;01massert\u001b[39;00m \u001b[38;5;28mself\u001b[39m.handles \u001b[38;5;129;01mis\u001b[39;00m \u001b[38;5;129;01mnot\u001b[39;00m \u001b[38;5;28;01mNone\u001b[39;00m\n\u001b[32m   1891\u001b[39m f = \u001b[38;5;28mself\u001b[39m.handles.handle\n",
      "\u001b[36mFile \u001b[39m\u001b[32m~/Local/gestion-quantitative/.venv/lib/python3.11/site-packages/pandas/io/common.py:873\u001b[39m, in \u001b[36mget_handle\u001b[39m\u001b[34m(path_or_buf, mode, encoding, compression, memory_map, is_text, errors, storage_options)\u001b[39m\n\u001b[32m    868\u001b[39m \u001b[38;5;28;01melif\u001b[39;00m \u001b[38;5;28misinstance\u001b[39m(handle, \u001b[38;5;28mstr\u001b[39m):\n\u001b[32m    869\u001b[39m     \u001b[38;5;66;03m# Check whether the filename is to be opened in binary mode.\u001b[39;00m\n\u001b[32m    870\u001b[39m     \u001b[38;5;66;03m# Binary mode does not support 'encoding' and 'newline'.\u001b[39;00m\n\u001b[32m    871\u001b[39m     \u001b[38;5;28;01mif\u001b[39;00m ioargs.encoding \u001b[38;5;129;01mand\u001b[39;00m \u001b[33m\"\u001b[39m\u001b[33mb\u001b[39m\u001b[33m\"\u001b[39m \u001b[38;5;129;01mnot\u001b[39;00m \u001b[38;5;129;01min\u001b[39;00m ioargs.mode:\n\u001b[32m    872\u001b[39m         \u001b[38;5;66;03m# Encoding\u001b[39;00m\n\u001b[32m--> \u001b[39m\u001b[32m873\u001b[39m         handle = \u001b[38;5;28mopen\u001b[39m(\n\u001b[32m    874\u001b[39m             handle,\n\u001b[32m    875\u001b[39m             ioargs.mode,\n\u001b[32m    876\u001b[39m             encoding=ioargs.encoding,\n\u001b[32m    877\u001b[39m             errors=errors,\n\u001b[32m    878\u001b[39m             newline=\u001b[33m\"\u001b[39m\u001b[33m\"\u001b[39m,\n\u001b[32m    879\u001b[39m         )\n\u001b[32m    880\u001b[39m     \u001b[38;5;28;01melse\u001b[39;00m:\n\u001b[32m    881\u001b[39m         \u001b[38;5;66;03m# Binary mode\u001b[39;00m\n\u001b[32m    882\u001b[39m         handle = \u001b[38;5;28mopen\u001b[39m(handle, ioargs.mode)\n",
      "\u001b[31mFileNotFoundError\u001b[39m: [Errno 2] No such file or directory: '../data/csv_results/AAPL_Momemtum1DayStrategy_holdbars1_stats.csv'"
     ]
    }
   ],
   "source": [
    "for TICKER in ticker_list:\n",
    "\n",
    "    # Keep a global df \n",
    "    df = pd.DataFrame()\n",
    "    for strategy in strategy_list:\n",
    "        for holding_date in hold_list:\n",
    "            # read csv\n",
    "            stats_df = pd.read_csv(f\"../data/csv_results/{TICKER}_{strategy}Strategy_holdbars{holding_date}_stats.csv\", index_col=0)\n",
    "\n",
    "            # Concatenate the dataframes\n",
    "            df = pd.concat([df, stats_df], axis=1)\n",
    "\n",
    "    raise ValueError\n",
    "            # # get the last row\n",
    "            # last_row = df.iloc[-1]\n",
    "            # # get the last column\n",
    "            # last_column = df.iloc[:, -1]\n",
    "            # # get the last column name\n",
    "            # last_column_name = df.columns[-1]\n",
    "            # # get the last column value\n",
    "            # last_column_value = last_column.iloc[-1]\n",
    "            # print(f\"{ticker} {strategy} {hold} {last_column_name} {last_column_value}\")"
   ]
  },
  {
   "cell_type": "code",
   "execution_count": 15,
   "id": "9274e918",
   "metadata": {},
   "outputs": [
    {
     "data": {
      "application/vnd.microsoft.datawrangler.viewer.v0+json": {
       "columns": [
        {
         "name": "index",
         "rawType": "object",
         "type": "string"
        },
        {
         "name": "0",
         "rawType": "object",
         "type": "string"
        }
       ],
       "conversionMethod": "pd.DataFrame",
       "ref": "85490026-b6fe-4162-9a28-7473b54be887",
       "rows": [
        [
         "Start",
         "2019-01-02 00:00:00"
        ],
        [
         "End",
         "2025-04-28 00:00:00"
        ],
        [
         "Duration",
         "2308 days 00:00:00"
        ],
        [
         "Equity Final [$]",
         "9371.510052642758"
        ],
        [
         "Return [%]",
         "-6.284899473572422"
        ],
        [
         "Return (Ann.) [%]",
         "-1.024142769785119"
        ],
        [
         "Volatility (Ann.) [%]",
         "0.4159221951708659"
        ],
        [
         "Sharpe Ratio",
         "-2.462342192064044"
        ],
        [
         "Sortino Ratio",
         "-2.956771969446325"
        ],
        [
         "Max. Drawdown [%]",
         "-6.4140934304815715"
        ],
        [
         "# Trades",
         "1498"
        ],
        [
         "Win Rate [%]",
         "54.873164218958614"
        ],
        [
         "Profit Factor",
         "1.2174205975498862"
        ],
        [
         "Expectancy [%]",
         "0.13269625997770312"
        ]
       ],
       "shape": {
        "columns": 1,
        "rows": 14
       }
      },
      "text/html": [
       "<div>\n",
       "<style scoped>\n",
       "    .dataframe tbody tr th:only-of-type {\n",
       "        vertical-align: middle;\n",
       "    }\n",
       "\n",
       "    .dataframe tbody tr th {\n",
       "        vertical-align: top;\n",
       "    }\n",
       "\n",
       "    .dataframe thead th {\n",
       "        text-align: right;\n",
       "    }\n",
       "</style>\n",
       "<table border=\"1\" class=\"dataframe\">\n",
       "  <thead>\n",
       "    <tr style=\"text-align: right;\">\n",
       "      <th></th>\n",
       "      <th>0</th>\n",
       "    </tr>\n",
       "  </thead>\n",
       "  <tbody>\n",
       "    <tr>\n",
       "      <th>Start</th>\n",
       "      <td>2019-01-02 00:00:00</td>\n",
       "    </tr>\n",
       "    <tr>\n",
       "      <th>End</th>\n",
       "      <td>2025-04-28 00:00:00</td>\n",
       "    </tr>\n",
       "    <tr>\n",
       "      <th>Duration</th>\n",
       "      <td>2308 days 00:00:00</td>\n",
       "    </tr>\n",
       "    <tr>\n",
       "      <th>Equity Final [$]</th>\n",
       "      <td>9371.510052642758</td>\n",
       "    </tr>\n",
       "    <tr>\n",
       "      <th>Return [%]</th>\n",
       "      <td>-6.284899473572422</td>\n",
       "    </tr>\n",
       "    <tr>\n",
       "      <th>Return (Ann.) [%]</th>\n",
       "      <td>-1.024142769785119</td>\n",
       "    </tr>\n",
       "    <tr>\n",
       "      <th>Volatility (Ann.) [%]</th>\n",
       "      <td>0.4159221951708659</td>\n",
       "    </tr>\n",
       "    <tr>\n",
       "      <th>Sharpe Ratio</th>\n",
       "      <td>-2.462342192064044</td>\n",
       "    </tr>\n",
       "    <tr>\n",
       "      <th>Sortino Ratio</th>\n",
       "      <td>-2.956771969446325</td>\n",
       "    </tr>\n",
       "    <tr>\n",
       "      <th>Max. Drawdown [%]</th>\n",
       "      <td>-6.4140934304815715</td>\n",
       "    </tr>\n",
       "    <tr>\n",
       "      <th># Trades</th>\n",
       "      <td>1498</td>\n",
       "    </tr>\n",
       "    <tr>\n",
       "      <th>Win Rate [%]</th>\n",
       "      <td>54.873164218958614</td>\n",
       "    </tr>\n",
       "    <tr>\n",
       "      <th>Profit Factor</th>\n",
       "      <td>1.2174205975498862</td>\n",
       "    </tr>\n",
       "    <tr>\n",
       "      <th>Expectancy [%]</th>\n",
       "      <td>0.13269625997770312</td>\n",
       "    </tr>\n",
       "  </tbody>\n",
       "</table>\n",
       "</div>"
      ],
      "text/plain": [
       "                                         0\n",
       "Start                  2019-01-02 00:00:00\n",
       "End                    2025-04-28 00:00:00\n",
       "Duration                2308 days 00:00:00\n",
       "Equity Final [$]         9371.510052642758\n",
       "Return [%]              -6.284899473572422\n",
       "Return (Ann.) [%]       -1.024142769785119\n",
       "Volatility (Ann.) [%]   0.4159221951708659\n",
       "Sharpe Ratio            -2.462342192064044\n",
       "Sortino Ratio           -2.956771969446325\n",
       "Max. Drawdown [%]      -6.4140934304815715\n",
       "# Trades                              1498\n",
       "Win Rate [%]            54.873164218958614\n",
       "Profit Factor           1.2174205975498862\n",
       "Expectancy [%]         0.13269625997770312"
      ]
     },
     "execution_count": 15,
     "metadata": {},
     "output_type": "execute_result"
    }
   ],
   "source": [
    "stats_df"
   ]
  },
  {
   "cell_type": "code",
   "execution_count": null,
   "id": "745da9c6",
   "metadata": {},
   "outputs": [],
   "source": []
  }
 ],
 "metadata": {
  "kernelspec": {
   "display_name": ".venv",
   "language": "python",
   "name": "python3"
  },
  "language_info": {
   "codemirror_mode": {
    "name": "ipython",
    "version": 3
   },
   "file_extension": ".py",
   "mimetype": "text/x-python",
   "name": "python",
   "nbconvert_exporter": "python",
   "pygments_lexer": "ipython3",
   "version": "3.11.12"
  }
 },
 "nbformat": 4,
 "nbformat_minor": 5
}
