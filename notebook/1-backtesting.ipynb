{
 "cells": [
  {
   "cell_type": "markdown",
   "id": "4432c6e1",
   "metadata": {},
   "source": []
  },
  {
   "cell_type": "code",
   "execution_count": 46,
   "id": "5b3695d2",
   "metadata": {},
   "outputs": [],
   "source": [
    "import yfinance as yf\n",
    "from backtesting import Backtest\n",
    "import itertools\n",
    "import os \n",
    "\n",
    "# 0. Config \n",
    "TICKER_LIST = [\"AAPL\", \"MSFT\", \"GOOGL\"]\n",
    "START_DATE = \"2019-01-01\"\n",
    "stats_to_keep = [\n",
    "    \"Start\",\n",
    "    \"End\",\n",
    "    \"Duration\",\n",
    "    \"Equity Final [$]\",\n",
    "    \"Return [%]\",\n",
    "    \"Return (Ann.) [%]\",\n",
    "    \"Volatility (Ann.) [%]\",\n",
    "    \"Sharpe Ratio\",\n",
    "    \"Sortino Ratio\",\n",
    "    \"Max. Drawdown [%]\",\n",
    "    \"# Trades\",\n",
    "    \"Win Rate [%]\",\n",
    "    \"Profit Factor\",\n",
    "    \"Expectancy [%]\"\n",
    "]\n",
    "hold_bar_list = [1, 5]\n",
    "\n",
    "# 2. Create directories for results\n",
    "path = os.getcwd()\n",
    "html_results_path = os.path.dirname(path) + \"/data/strategies/html_results/\"\n",
    "data_results_path = os.path.dirname(path) + \"/data/strategies/csv_results/\"\n",
    "os.makedirs(html_results_path, exist_ok=True)\n",
    "os.makedirs(data_results_path, exist_ok=True)"
   ]
  },
  {
   "cell_type": "code",
   "execution_count": 34,
   "id": "0737d279",
   "metadata": {},
   "outputs": [],
   "source": [
    "from backtesting import Backtest, Strategy\n",
    "import pandas as pd\n",
    "import numpy as np \n",
    "def RSI(values, n=14):\n",
    "    \"\"\"\n",
    "    Calculate the Relative Strength Index for a given price series\n",
    "    \"\"\"\n",
    "    # Calculate price changes\n",
    "    delta = pd.Series(values).diff()\n",
    "    # Split gains (up) and losses (down)\n",
    "    up, down = delta.clip(lower=0), -delta.clip(upper=0)\n",
    "    # Calculate EMA of up and down\n",
    "    roll_up = up.rolling(n).mean()\n",
    "    roll_down = down.rolling(n).mean()\n",
    "    # Calculate RS and RSI\n",
    "    rs = roll_up / roll_down\n",
    "    rsi = 100.0 - (100.0 / (1.0 + rs))\n",
    "\n",
    "    # Convert to numpy array with same length as input\n",
    "    result = np.full_like(values, fill_value=np.nan)\n",
    "    result[n:] = rsi.iloc[n:].values\n",
    "\n",
    "    return rsi\n",
    "\n",
    "class RSIStrategy(Strategy):\n",
    "    # --- paramètres modifiables -------\n",
    "    hold_bars = 5  # Par défaut comme dans l'exemple\n",
    "    rsi_period = 14\n",
    "    rsi_buy_threshold = 40\n",
    "    # -----------------------------------\n",
    "\n",
    "    def init(self):\n",
    "        self.rsi = self.I(RSI, self.data.Close, self.rsi_period)\n",
    "\n",
    "    def next(self):\n",
    "        # Fermer tous les trades qui ont hold_bars d'âge\n",
    "        for trade in list(self.trades):\n",
    "            if (len(self.data) - trade.entry_bar) > self.hold_bars:\n",
    "                trade.close()\n",
    "\n",
    "        # Signal d'entrée : RSI < 40 (survendu)\n",
    "        if self.rsi[-1] < self.rsi_buy_threshold:\n",
    "            self.buy(size=1)\n",
    "\n",
    "def BBANDS(values, n=20, dev=2):\n",
    "    \"\"\"\n",
    "    Calculate Bollinger Bands for a price series\n",
    "    Returns: middle band, upper band, lower band, and percent B\n",
    "    \"\"\"\n",
    "    sma = pd.Series(values).rolling(n).mean()\n",
    "    std = pd.Series(values).rolling(n).std(ddof=0)\n",
    "    upper_band = sma + (std * dev)\n",
    "    lower_band = sma - (std * dev)\n",
    "    # Calculate %B (percent bandwidth)\n",
    "    percent_b = (values - lower_band) / (upper_band - lower_band)\n",
    "    \n",
    "    return sma, upper_band, lower_band, percent_b\n",
    "\n",
    "class BollingerStrategy(Strategy):\n",
    "    # --- paramètres modifiables -------\n",
    "    hold_bars = 5\n",
    "    bb_period = 20\n",
    "    bb_dev = 2\n",
    "    # -----------------------------------\n",
    "\n",
    "    def init(self):\n",
    "        self.sma, self.upper, self.lower, self.percent_b = self.I(BBANDS, self.data.Close, self.bb_period, self.bb_dev)\n",
    "\n",
    "    def next(self):\n",
    "        # Fermer tous les trades qui ont hold_bars d'âge\n",
    "        for trade in list(self.trades):\n",
    "            if (len(self.data) - trade.entry_bar) > self.hold_bars:\n",
    "                trade.close()\n",
    "\n",
    "        # Acheter quand le prix est à l'intérieur des bandes (0 ≤ pctB ≤ 1)\n",
    "        if 0 <= self.percent_b[-1] <= 1:\n",
    "            self.buy(size=1)\n",
    "        \n",
    "        # Vendre quand le prix est au-dessus de la bande supérieure (pctB > 1)\n",
    "        elif self.percent_b[-1] > 1:\n",
    "            self.sell(size=1)\n",
    "\n",
    "def CMF(high, low, close, volume, n=20):\n",
    "    \"\"\"\n",
    "    Calculate Chaikin Money Flow\n",
    "    \"\"\"\n",
    "    money_flow_multiplier = ((close - low) - (high - close)) / (high - low)\n",
    "    money_flow_volume = money_flow_multiplier * volume\n",
    "    money_flow_volume_series = pd.Series(money_flow_volume)\n",
    "    volume_series = pd.Series(volume)\n",
    "    cmf = money_flow_volume_series.rolling(n).sum() / volume_series.rolling(n).sum()\n",
    "    # cmf = money_flow_volume.rolling(n).sum() / volume.rolling(n).sum()\n",
    "    return cmf\n",
    "\n",
    "class ChaikinMoneyFlowStrategy(Strategy):\n",
    "    # --- paramètres modifiables -------\n",
    "    hold_bars = 5\n",
    "    cmf_period = 20\n",
    "    cmf_buy_threshold = 0.20\n",
    "    cmf_sell_threshold = -0.20\n",
    "    # -----------------------------------\n",
    "\n",
    "    def init(self):\n",
    "        self.cmf = self.I(CMF, self.data.High, self.data.Low, self.data.Close, self.data.Volume)\n",
    "\n",
    "    def next(self):\n",
    "        # Fermer tous les trades qui ont hold_bars d'âge\n",
    "        for trade in list(self.trades):\n",
    "            if (len(self.data) - trade.entry_bar) > self.hold_bars:\n",
    "                trade.close()\n",
    "\n",
    "        # Acheter quand CMF > 0.20\n",
    "        if self.cmf[-1] > self.cmf_buy_threshold:\n",
    "            self.buy(size=1)\n",
    "        \n",
    "        # Vendre quand CMF < -0.20\n",
    "        elif self.cmf[-1] < self.cmf_sell_threshold:\n",
    "            self.sell(size=1)\n",
    "\n",
    "def Stochastic_R(high, low, close, n=14):\n",
    "    \"\"\"\n",
    "    Calculate Williams %R (similar to Lane Stochastic)\n",
    "    \"\"\"\n",
    "    highest_high = pd.Series(high).rolling(n).max()\n",
    "    lowest_low = pd.Series(low).rolling(n).min()\n",
    "    percent_r = (highest_high - close) / (highest_high - lowest_low)\n",
    "    return percent_r\n",
    "\n",
    "class StochasticRStrategy(Strategy):\n",
    "    # --- paramètres modifiables -------\n",
    "    hold_bars = 5\n",
    "    stoch_period = 14\n",
    "    buy_threshold = 0.50\n",
    "    sell_threshold = 0.90\n",
    "    # -----------------------------------\n",
    "\n",
    "    def init(self):\n",
    "        self.percent_r = self.I(Stochastic_R, self.data.High, self.data.Low, self.data.Close, self.stoch_period)\n",
    "\n",
    "    def next(self):\n",
    "        # Fermer tous les trades qui ont hold_bars d'âge\n",
    "        for trade in list(self.trades):\n",
    "            if (len(self.data) - trade.entry_bar) > self.hold_bars:\n",
    "                trade.close()\n",
    "\n",
    "        # Acheter quand %R < 0.50\n",
    "        if self.percent_r[-1] < self.buy_threshold:\n",
    "            self.buy(size=1)\n",
    "        \n",
    "        # Vendre quand %R > 0.90\n",
    "        elif self.percent_r[-1] > self.sell_threshold:\n",
    "            self.sell(size=1)\n",
    "\n",
    "def TDI_DI(values, n=14):\n",
    "    \"\"\"\n",
    "    Calculate Trend Detection Index (TDI) and Direction Index (DI)\n",
    "    \"\"\"\n",
    "    # Calcul simplifié - TDI est la pente du prix, DI est la dérivée seconde\n",
    "    price = pd.Series(values)\n",
    "    tdi = price.diff(n)  # Différence sur n périodes = momentum\n",
    "    di = tdi.diff(1)     # Dérivée du momentum = accélération\n",
    "    return tdi, di\n",
    "\n",
    "class TDIStrategy(Strategy):\n",
    "    # --- paramètres modifiables -------\n",
    "    hold_bars = 5\n",
    "    tdi_period = 14\n",
    "    # -----------------------------------\n",
    "\n",
    "    def init(self):\n",
    "        self.tdi, self.di = self.I(TDI_DI, self.data.Close, self.tdi_period)\n",
    "\n",
    "    def next(self):\n",
    "        # Fermer tous les trades qui ont hold_bars d'âge\n",
    "        for trade in list(self.trades):\n",
    "            if (len(self.data) - trade.entry_bar) > self.hold_bars:\n",
    "                trade.close()\n",
    "\n",
    "        # Acheter quand TDI > 0 et DI > 0 (momentum croissant)\n",
    "        if self.tdi[-1] > 0 and self.di[-1] > 0:\n",
    "            self.buy(size=1)\n",
    "        \n",
    "        # Vendre quand TDI > 0 et DI < 0 (perte de momentum)\n",
    "        elif self.tdi[-1] > 0 and self.di[-1] < 0:\n",
    "            self.sell(size=1)\n",
    "\n",
    "class Momentum60DayStrategy(Strategy):\n",
    "    # --- paramètres modifiables -------\n",
    "    hold_bars = 5\n",
    "    # -----------------------------------\n",
    "\n",
    "    def init(self):\n",
    "        pass  # Pas besoin d'indicateur spécial ici\n",
    "\n",
    "    def next(self):\n",
    "        # Fermer tous les trades qui ont hold_bars d'âge\n",
    "        for trade in list(self.trades):\n",
    "            if (len(self.data) - trade.entry_bar) > self.hold_bars:\n",
    "                trade.close()\n",
    "\n",
    "        if len(self.data) > 60:\n",
    "            if self.data.Close[-1] > self.data.Close[-61]:\n",
    "                self.buy(size=1)\n",
    "\n",
    "class VXNStrategy(Strategy):\n",
    "    # --- paramètres modifiables -------\n",
    "    hold_bars = 5\n",
    "    vxn_period = 14\n",
    "    vxn_buy_threshold = 0.20\n",
    "    vxn_sell_threshold = -0.20\n",
    "    # -----------------------------------\n",
    "\n",
    "    def init(self):\n",
    "        self.vxn = self.I(RSI, vxn_data.Close, self.vxn_period)\n",
    "\n",
    "    def next(self):\n",
    "        # Fermer tous les trades qui ont hold_bars d'âge\n",
    "        for trade in list(self.trades):\n",
    "            if (len(self.data) - trade.entry_bar) > self.hold_bars:\n",
    "                trade.close()\n",
    "\n",
    "        # Acheter quand VXN > 0.20\n",
    "        if self.vxn_rsi[-1] < 30 or self.vxn_rsi[-1] > 80:\n",
    "            self.buy()\n",
    "\n",
    "class YieldCurveStrategy(Strategy):\n",
    "    # --- paramètres modifiables -------\n",
    "    hold_bars = 5\n",
    "    yc_period = 14\n",
    "    yc_buy_threshold = 0.20\n",
    "    yc_sell_threshold = -0.20\n",
    "    # -----------------------------------\n",
    "\n",
    "    def init(self):\n",
    "        self.yc = self.I(RSI, yc_data.Close, self.yc_period)\n",
    "\n",
    "    def next(self):\n",
    "        # Fermer tous les trades qui ont hold_bars d'âge\n",
    "        for trade in list(self.trades):\n",
    "            if (len(self.data) - trade.entry_bar) > self.hold_bars:\n",
    "                trade.close()\n",
    "\n",
    "        # Acheter quand YC > 0.20\n",
    "        if self.yc_rsi[-1] < 30 or self.yc_rsi[-1] > 80:\n",
    "            self.buy()\n",
    "    \n",
    "class CreditSpreadStrategy(Strategy):\n",
    "    # --- paramètres modifiables -------\n",
    "    hold_bars = 5\n",
    "    cs_period = 14\n",
    "    cs_buy_threshold = 0.20\n",
    "    cs_sell_threshold = -0.20\n",
    "    # -----------------------------------\n",
    "\n",
    "    def init(self):\n",
    "        self.cs = self.I(RSI, yc_data.Close, self.cs_period)\n",
    "\n",
    "    def next(self):\n",
    "        # Fermer tous les trades qui ont hold_bars d'âge\n",
    "        for trade in list(self.trades):\n",
    "            if (len(self.data) - trade.entry_bar) > self.hold_bars:\n",
    "                trade.close()\n",
    "\n",
    "        # Acheter quand CS > 0.20\n",
    "        if self.cs_rsi[-1] < 30 or self.cs_rsi[-1] > 80:\n",
    "            self.buy()\n"
   ]
  },
  {
   "cell_type": "code",
   "execution_count": 35,
   "id": "f13bdbb8",
   "metadata": {},
   "outputs": [
    {
     "data": {
      "text/plain": [
       "Date\n",
       "2019-01-02    30.090000\n",
       "2019-01-03    32.180000\n",
       "2019-01-04    28.570000\n",
       "2019-01-07    28.530001\n",
       "2019-01-08    27.660000\n",
       "                ...    \n",
       "2025-04-24    29.959999\n",
       "2025-04-25    28.370001\n",
       "2025-04-28    28.540001\n",
       "2025-04-29    27.600000\n",
       "2025-04-30    27.799999\n",
       "Name: Close, Length: 1590, dtype: float64"
      ]
     },
     "execution_count": 35,
     "metadata": {},
     "output_type": "execute_result"
    }
   ],
   "source": [
    "vxn_data.Close"
   ]
  },
  {
   "cell_type": "code",
   "execution_count": null,
   "id": "ff1fa979",
   "metadata": {},
   "outputs": [
    {
     "name": "stdout",
     "output_type": "stream",
     "text": [
      "Running backtest with AAPL data...\n",
      "Config : RSIStrategy with hold_bars=1\n"
     ]
    },
    {
     "name": "stderr",
     "output_type": "stream",
     "text": [
      "                                                       \r"
     ]
    },
    {
     "name": "stdout",
     "output_type": "stream",
     "text": [
      "Running backtest with AAPL data...\n",
      "Config : RSIStrategy with hold_bars=5\n"
     ]
    },
    {
     "name": "stderr",
     "output_type": "stream",
     "text": [
      "                                                       \r"
     ]
    },
    {
     "name": "stdout",
     "output_type": "stream",
     "text": [
      "Running backtest with AAPL data...\n",
      "Config : VXNStrategy with hold_bars=1\n"
     ]
    },
    {
     "ename": "ValueError",
     "evalue": "Indicators must return (optionally a tuple of) numpy.arrays of same length as `data` (data shape: (1591,); indicator \"RSI(C,14)\" shape: (1590,), returned value: [        nan         nan         nan ... 38.14554233 35.96902774\n 40.8039931 ])",
     "output_type": "error",
     "traceback": [
      "\u001b[31m---------------------------------------------------------------------------\u001b[39m",
      "\u001b[31mValueError\u001b[39m                                Traceback (most recent call last)",
      "\u001b[36mCell\u001b[39m\u001b[36m \u001b[39m\u001b[32mIn[37]\u001b[39m\u001b[32m, line 28\u001b[39m\n\u001b[32m     25\u001b[39m strategy.hold_bars = hold_bar\n\u001b[32m     26\u001b[39m bt = Backtest(data, strategy,\n\u001b[32m     27\u001b[39m                 cash=\u001b[32m10_000\u001b[39m, commission=\u001b[32m0.002\u001b[39m, trade_on_close=\u001b[38;5;28;01mTrue\u001b[39;00m)\n\u001b[32m---> \u001b[39m\u001b[32m28\u001b[39m stats = \u001b[43mbt\u001b[49m\u001b[43m.\u001b[49m\u001b[43mrun\u001b[49m\u001b[43m(\u001b[49m\u001b[43m)\u001b[49m\n\u001b[32m     30\u001b[39m \u001b[38;5;66;03m# Save results\u001b[39;00m\n\u001b[32m     31\u001b[39m filename = \u001b[33mf\u001b[39m\u001b[33m\"\u001b[39m\u001b[38;5;132;01m{\u001b[39;00mTICKER\u001b[38;5;132;01m}\u001b[39;00m\u001b[33m_\u001b[39m\u001b[38;5;132;01m{\u001b[39;00mstrategy.\u001b[34m__name__\u001b[39m\u001b[38;5;132;01m}\u001b[39;00m\u001b[33m_holdbars\u001b[39m\u001b[38;5;132;01m{\u001b[39;00mhold_bar\u001b[38;5;132;01m}\u001b[39;00m\u001b[33m\"\u001b[39m\n",
      "\u001b[36mFile \u001b[39m\u001b[32m~/Local/gestion-quantitative/.venv/lib/python3.11/site-packages/backtesting/backtesting.py:1297\u001b[39m, in \u001b[36mBacktest.run\u001b[39m\u001b[34m(self, **kwargs)\u001b[39m\n\u001b[32m   1294\u001b[39m broker: _Broker = \u001b[38;5;28mself\u001b[39m._broker(data=data)\n\u001b[32m   1295\u001b[39m strategy: Strategy = \u001b[38;5;28mself\u001b[39m._strategy(broker, data, kwargs)\n\u001b[32m-> \u001b[39m\u001b[32m1297\u001b[39m \u001b[43mstrategy\u001b[49m\u001b[43m.\u001b[49m\u001b[43minit\u001b[49m\u001b[43m(\u001b[49m\u001b[43m)\u001b[49m\n\u001b[32m   1298\u001b[39m data._update()  \u001b[38;5;66;03m# Strategy.init might have changed/added to data.df\u001b[39;00m\n\u001b[32m   1300\u001b[39m \u001b[38;5;66;03m# Indicators used in Strategy.next()\u001b[39;00m\n",
      "\u001b[36mCell\u001b[39m\u001b[36m \u001b[39m\u001b[32mIn[34]\u001b[39m\u001b[32m, line 214\u001b[39m, in \u001b[36mVXNStrategy.init\u001b[39m\u001b[34m(self)\u001b[39m\n\u001b[32m    213\u001b[39m \u001b[38;5;28;01mdef\u001b[39;00m\u001b[38;5;250m \u001b[39m\u001b[34minit\u001b[39m(\u001b[38;5;28mself\u001b[39m):\n\u001b[32m--> \u001b[39m\u001b[32m214\u001b[39m     \u001b[38;5;28mself\u001b[39m.vxn = \u001b[38;5;28;43mself\u001b[39;49m\u001b[43m.\u001b[49m\u001b[43mI\u001b[49m\u001b[43m(\u001b[49m\u001b[43mRSI\u001b[49m\u001b[43m,\u001b[49m\u001b[43m \u001b[49m\u001b[43mvxn_data\u001b[49m\u001b[43m.\u001b[49m\u001b[43mClose\u001b[49m\u001b[43m,\u001b[49m\u001b[43m \u001b[49m\u001b[38;5;28;43mself\u001b[39;49m\u001b[43m.\u001b[49m\u001b[43mvxn_period\u001b[49m\u001b[43m)\u001b[49m\n",
      "\u001b[36mFile \u001b[39m\u001b[32m~/Local/gestion-quantitative/.venv/lib/python3.11/site-packages/backtesting/backtesting.py:162\u001b[39m, in \u001b[36mStrategy.I\u001b[39m\u001b[34m(self, func, name, plot, overlay, color, scatter, *args, **kwargs)\u001b[39m\n\u001b[32m    157\u001b[39m     \u001b[38;5;28;01mraise\u001b[39;00m \u001b[38;5;167;01mValueError\u001b[39;00m(\n\u001b[32m    158\u001b[39m         \u001b[33mf\u001b[39m\u001b[33m'\u001b[39m\u001b[33mLength of `name=` (\u001b[39m\u001b[38;5;132;01m{\u001b[39;00m\u001b[38;5;28mlen\u001b[39m(name)\u001b[38;5;132;01m}\u001b[39;00m\u001b[33m) must agree with the number \u001b[39m\u001b[33m'\u001b[39m\n\u001b[32m    159\u001b[39m         \u001b[33mf\u001b[39m\u001b[33m'\u001b[39m\u001b[33mof arrays the indicator returns (\u001b[39m\u001b[38;5;132;01m{\u001b[39;00mvalue.shape[\u001b[32m0\u001b[39m]\u001b[38;5;132;01m}\u001b[39;00m\u001b[33m).\u001b[39m\u001b[33m'\u001b[39m)\n\u001b[32m    161\u001b[39m \u001b[38;5;28;01mif\u001b[39;00m \u001b[38;5;129;01mnot\u001b[39;00m is_arraylike \u001b[38;5;129;01mor\u001b[39;00m \u001b[38;5;129;01mnot\u001b[39;00m \u001b[32m1\u001b[39m <= value.ndim <= \u001b[32m2\u001b[39m \u001b[38;5;129;01mor\u001b[39;00m value.shape[-\u001b[32m1\u001b[39m] != \u001b[38;5;28mlen\u001b[39m(\u001b[38;5;28mself\u001b[39m._data.Close):\n\u001b[32m--> \u001b[39m\u001b[32m162\u001b[39m     \u001b[38;5;28;01mraise\u001b[39;00m \u001b[38;5;167;01mValueError\u001b[39;00m(\n\u001b[32m    163\u001b[39m         \u001b[33m'\u001b[39m\u001b[33mIndicators must return (optionally a tuple of) numpy.arrays of same \u001b[39m\u001b[33m'\u001b[39m\n\u001b[32m    164\u001b[39m         \u001b[33mf\u001b[39m\u001b[33m'\u001b[39m\u001b[33mlength as `data` (data shape: \u001b[39m\u001b[38;5;132;01m{\u001b[39;00m\u001b[38;5;28mself\u001b[39m._data.Close.shape\u001b[38;5;132;01m}\u001b[39;00m\u001b[33m; indicator \u001b[39m\u001b[33m\"\u001b[39m\u001b[38;5;132;01m{\u001b[39;00mname\u001b[38;5;132;01m}\u001b[39;00m\u001b[33m\"\u001b[39m\u001b[33m \u001b[39m\u001b[33m'\u001b[39m\n\u001b[32m    165\u001b[39m         \u001b[33mf\u001b[39m\u001b[33m'\u001b[39m\u001b[33mshape: \u001b[39m\u001b[38;5;132;01m{\u001b[39;00m\u001b[38;5;28mgetattr\u001b[39m(value,\u001b[38;5;250m \u001b[39m\u001b[33m\"\u001b[39m\u001b[33mshape\u001b[39m\u001b[33m\"\u001b[39m,\u001b[38;5;250m \u001b[39m\u001b[33m\"\u001b[39m\u001b[33m\"\u001b[39m)\u001b[38;5;132;01m}\u001b[39;00m\u001b[33m, returned value: \u001b[39m\u001b[38;5;132;01m{\u001b[39;00mvalue\u001b[38;5;132;01m}\u001b[39;00m\u001b[33m)\u001b[39m\u001b[33m'\u001b[39m)\n\u001b[32m    167\u001b[39m \u001b[38;5;28;01mif\u001b[39;00m plot \u001b[38;5;129;01mand\u001b[39;00m overlay \u001b[38;5;129;01mis\u001b[39;00m \u001b[38;5;28;01mNone\u001b[39;00m \u001b[38;5;129;01mand\u001b[39;00m np.issubdtype(value.dtype, np.number):\n\u001b[32m    168\u001b[39m     x = value / \u001b[38;5;28mself\u001b[39m._data.Close\n",
      "\u001b[31mValueError\u001b[39m: Indicators must return (optionally a tuple of) numpy.arrays of same length as `data` (data shape: (1591,); indicator \"RSI(C,14)\" shape: (1590,), returned value: [        nan         nan         nan ... 38.14554233 35.96902774\n 40.8039931 ])"
     ]
    }
   ],
   "source": [
    "strategy_list = [\n",
    "    RSIStrategy,\n",
    "    # BollingerStrategy,\n",
    "    # ChaikinMoneyFlowStrategy,\n",
    "    # StochasticRStrategy,\n",
    "    # TDIStrategy,\n",
    "    # Momentum60DayStrategy\n",
    "    VXNStrategy\n",
    "]\n",
    "# spread_data = yf.download(\"^VIX\", start=START_DATE, progress=False)[\n",
    "\n",
    "for TICKER in TICKER_LIST:\n",
    "    # 1. Download data\n",
    "    data = yf.download(TICKER, start=START_DATE, progress=False)[\n",
    "                [\"Open\", \"High\", \"Low\", \"Close\", \"Volume\"]\n",
    "            ].dropna().droplevel(1, axis=1)  # remove multi-index\n",
    "    data.index.name = \"Date\"\n",
    "\n",
    "    da\n",
    "    # 3. Run backtests for each strategy and hold_bar combination\n",
    "    for strategy, hold_bar in list(itertools.product(strategy_list, hold_bar_list)):\n",
    "\n",
    "        print(f\"Running backtest with {TICKER} data...\")\n",
    "        print(f\"Config : {strategy.__name__} with hold_bars={hold_bar}\")\n",
    "\n",
    "        strategy.hold_bars = hold_bar\n",
    "        bt = Backtest(data, strategy,\n",
    "                        cash=10_000, commission=0.002, trade_on_close=True)\n",
    "        stats = bt.run()\n",
    "        \n",
    "        # Save results\n",
    "        filename = f\"{TICKER}_{strategy.__name__}_holdbars{hold_bar}\"\n",
    "        # Save plot\n",
    "        bt.plot(plot_width=1200, \n",
    "                filename=html_results_path + filename + \".html\",\n",
    "                open_browser=False)\n",
    "        # Save trades\n",
    "        stats._trades.to_csv(data_results_path + filename + \"_trades.csv\", index=True)\n",
    "        # Save stats\n",
    "        stats_df = stats[stats_to_keep]\n",
    "        stats_df.to_csv(data_results_path + filename + \"_stats.csv\", index=True)\n"
   ]
  },
  {
   "cell_type": "code",
   "execution_count": 49,
   "id": "a0bd7485",
   "metadata": {},
   "outputs": [
    {
     "data": {
      "application/vnd.microsoft.datawrangler.viewer.v0+json": {
       "columns": [
        {
         "name": "Date",
         "rawType": "datetime64[ns]",
         "type": "datetime"
        },
        {
         "name": "Open",
         "rawType": "float64",
         "type": "float"
        },
        {
         "name": "High",
         "rawType": "float64",
         "type": "float"
        },
        {
         "name": "Low",
         "rawType": "float64",
         "type": "float"
        },
        {
         "name": "Close",
         "rawType": "float64",
         "type": "float"
        },
        {
         "name": "Volume",
         "rawType": "int64",
         "type": "integer"
        }
       ],
       "conversionMethod": "pd.DataFrame",
       "ref": "eebc13dd-f550-4523-b1ad-e6b518a82fe0",
       "rows": [
        [
         "2019-01-02 00:00:00",
         "34.0099983215332",
         "34.0099983215332",
         "30.09000015258789",
         "30.09000015258789",
         "0"
        ],
        [
         "2019-01-03 00:00:00",
         "31.43000030517578",
         "32.939998626708984",
         "31.010000228881836",
         "32.18000030517578",
         "0"
        ],
        [
         "2019-01-04 00:00:00",
         "30.6200008392334",
         "30.989999771118164",
         "28.229999542236328",
         "28.56999969482422",
         "0"
        ],
        [
         "2019-01-07 00:00:00",
         "29.469999313354492",
         "29.549999237060547",
         "28.239999771118164",
         "28.530000686645508",
         "0"
        ],
        [
         "2019-01-08 00:00:00",
         "27.84000015258789",
         "29.420000076293945",
         "27.579999923706055",
         "27.65999984741211",
         "0"
        ],
        [
         "2019-01-09 00:00:00",
         "27.40999984741211",
         "27.770000457763672",
         "26.219999313354492",
         "26.420000076293945",
         "0"
        ],
        [
         "2019-01-10 00:00:00",
         "26.420000076293945",
         "27.649999618530273",
         "25.700000762939453",
         "25.90999984741211",
         "0"
        ],
        [
         "2019-01-11 00:00:00",
         "26.559999465942383",
         "26.65999984741211",
         "24.719999313354492",
         "24.780000686645508",
         "0"
        ],
        [
         "2019-01-14 00:00:00",
         "26.690000534057617",
         "27.170000076293945",
         "25.079999923706055",
         "25.739999771118164",
         "0"
        ],
        [
         "2019-01-15 00:00:00",
         "25.440000534057617",
         "25.540000915527344",
         "23.489999771118164",
         "23.65999984741211",
         "0"
        ],
        [
         "2019-01-16 00:00:00",
         "23.65999984741211",
         "24.139999389648438",
         "23.09000015258789",
         "24.06999969482422",
         "0"
        ],
        [
         "2019-01-17 00:00:00",
         "24.299999237060547",
         "24.420000076293945",
         "22.6200008392334",
         "23.34000015258789",
         "0"
        ],
        [
         "2019-01-18 00:00:00",
         "22.540000915527344",
         "23.059999465942383",
         "21.479999542236328",
         "21.889999389648438",
         "0"
        ],
        [
         "2019-01-22 00:00:00",
         "23.65999984741211",
         "26.030000686645508",
         "23.600000381469727",
         "25.020000457763672",
         "0"
        ],
        [
         "2019-01-23 00:00:00",
         "25.020000457763672",
         "26.600000381469727",
         "24.079999923706055",
         "24.5",
         "0"
        ],
        [
         "2019-01-24 00:00:00",
         "24.350000381469727",
         "24.760000228881836",
         "22.989999771118164",
         "23.489999771118164",
         "0"
        ],
        [
         "2019-01-25 00:00:00",
         "23.489999771118164",
         "23.489999771118164",
         "21.700000762939453",
         "21.780000686645508",
         "0"
        ],
        [
         "2019-01-28 00:00:00",
         "21.780000686645508",
         "24.68000030517578",
         "21.780000686645508",
         "23.43000030517578",
         "0"
        ],
        [
         "2019-01-29 00:00:00",
         "23.43000030517578",
         "24.3799991607666",
         "23.34000015258789",
         "23.860000610351562",
         "0"
        ],
        [
         "2019-01-30 00:00:00",
         "23.850000381469727",
         "23.850000381469727",
         "20.649999618530273",
         "21.18000030517578",
         "0"
        ],
        [
         "2019-01-31 00:00:00",
         "21.079999923706055",
         "21.209999084472656",
         "19.6200008392334",
         "20.239999771118164",
         "0"
        ],
        [
         "2019-02-01 00:00:00",
         "20.239999771118164",
         "20.690000534057617",
         "19.530000686645508",
         "19.799999237060547",
         "0"
        ],
        [
         "2019-02-04 00:00:00",
         "19.799999237060547",
         "20.600000381469727",
         "19.34000015258789",
         "19.68000030517578",
         "0"
        ],
        [
         "2019-02-05 00:00:00",
         "19.40999984741211",
         "19.799999237060547",
         "19.040000915527344",
         "19.469999313354492",
         "0"
        ],
        [
         "2019-02-06 00:00:00",
         "19.469999313354492",
         "20.229999542236328",
         "19.260000228881836",
         "19.739999771118164",
         "0"
        ],
        [
         "2019-02-07 00:00:00",
         "19.75",
         "21.959999084472656",
         "19.75",
         "20.920000076293945",
         "0"
        ],
        [
         "2019-02-08 00:00:00",
         "20.920000076293945",
         "22.190000534057617",
         "19.790000915527344",
         "20.040000915527344",
         "0"
        ],
        [
         "2019-02-11 00:00:00",
         "20.040000915527344",
         "20.799999237060547",
         "19.920000076293945",
         "20.06999969482422",
         "0"
        ],
        [
         "2019-02-12 00:00:00",
         "20.059999465942383",
         "20.059999465942383",
         "18.559999465942383",
         "18.690000534057617",
         "0"
        ],
        [
         "2019-02-13 00:00:00",
         "18.690000534057617",
         "19.31999969482422",
         "18.479999542236328",
         "19.0",
         "0"
        ],
        [
         "2019-02-14 00:00:00",
         "19.0",
         "20.65999984741211",
         "18.68000030517578",
         "19.020000457763672",
         "0"
        ],
        [
         "2019-02-15 00:00:00",
         "19.049999237060547",
         "19.049999237060547",
         "17.68000030517578",
         "17.700000762939453",
         "0"
        ],
        [
         "2019-02-19 00:00:00",
         "17.690000534057617",
         "19.06999969482422",
         "17.690000534057617",
         "18.100000381469727",
         "0"
        ],
        [
         "2019-02-20 00:00:00",
         "18.100000381469727",
         "18.739999771118164",
         "17.600000381469727",
         "18.020000457763672",
         "0"
        ],
        [
         "2019-02-21 00:00:00",
         "18.010000228881836",
         "19.170000076293945",
         "17.850000381469727",
         "18.190000534057617",
         "0"
        ],
        [
         "2019-02-22 00:00:00",
         "17.889999389648438",
         "18.010000228881836",
         "16.8700008392334",
         "16.950000762939453",
         "0"
        ],
        [
         "2019-02-25 00:00:00",
         "16.809999465942383",
         "17.8799991607666",
         "16.670000076293945",
         "17.809999465942383",
         "0"
        ],
        [
         "2019-02-26 00:00:00",
         "17.809999465942383",
         "18.389999389648438",
         "17.6200008392334",
         "18.110000610351562",
         "0"
        ],
        [
         "2019-02-27 00:00:00",
         "18.149999618530273",
         "19.31999969482422",
         "17.56999969482422",
         "17.600000381469727",
         "0"
        ],
        [
         "2019-02-28 00:00:00",
         "17.59000015258789",
         "18.270000457763672",
         "17.149999618530273",
         "17.170000076293945",
         "0"
        ],
        [
         "2019-03-01 00:00:00",
         "16.780000686645508",
         "17.25",
         "16.049999237060547",
         "16.1200008392334",
         "0"
        ],
        [
         "2019-03-04 00:00:00",
         "16.1200008392334",
         "19.299999237060547",
         "16.1200008392334",
         "17.360000610351562",
         "0"
        ],
        [
         "2019-03-05 00:00:00",
         "17.3799991607666",
         "18.09000015258789",
         "16.850000381469727",
         "17.059999465942383",
         "0"
        ],
        [
         "2019-03-06 00:00:00",
         "17.059999465942383",
         "18.540000915527344",
         "17.059999465942383",
         "18.229999542236328",
         "0"
        ],
        [
         "2019-03-07 00:00:00",
         "18.239999771118164",
         "20.18000030517578",
         "18.239999771118164",
         "19.59000015258789",
         "0"
        ],
        [
         "2019-03-08 00:00:00",
         "19.6200008392334",
         "21.200000762939453",
         "19.1200008392334",
         "19.1200008392334",
         "0"
        ],
        [
         "2019-03-11 00:00:00",
         "19.149999618530273",
         "19.149999618530273",
         "16.34000015258789",
         "16.360000610351562",
         "0"
        ],
        [
         "2019-03-12 00:00:00",
         "16.360000610351562",
         "16.6200008392334",
         "15.619999885559082",
         "15.760000228881836",
         "0"
        ],
        [
         "2019-03-13 00:00:00",
         "15.600000381469727",
         "15.779999732971191",
         "15.300000190734863",
         "15.380000114440918",
         "0"
        ],
        [
         "2019-03-14 00:00:00",
         "15.380000114440918",
         "15.800000190734863",
         "15.270000457763672",
         "15.649999618530273",
         "0"
        ]
       ],
       "shape": {
        "columns": 5,
        "rows": 1590
       }
      },
      "text/html": [
       "<div>\n",
       "<style scoped>\n",
       "    .dataframe tbody tr th:only-of-type {\n",
       "        vertical-align: middle;\n",
       "    }\n",
       "\n",
       "    .dataframe tbody tr th {\n",
       "        vertical-align: top;\n",
       "    }\n",
       "\n",
       "    .dataframe thead th {\n",
       "        text-align: right;\n",
       "    }\n",
       "</style>\n",
       "<table border=\"1\" class=\"dataframe\">\n",
       "  <thead>\n",
       "    <tr style=\"text-align: right;\">\n",
       "      <th>Price</th>\n",
       "      <th>Open</th>\n",
       "      <th>High</th>\n",
       "      <th>Low</th>\n",
       "      <th>Close</th>\n",
       "      <th>Volume</th>\n",
       "    </tr>\n",
       "    <tr>\n",
       "      <th>Date</th>\n",
       "      <th></th>\n",
       "      <th></th>\n",
       "      <th></th>\n",
       "      <th></th>\n",
       "      <th></th>\n",
       "    </tr>\n",
       "  </thead>\n",
       "  <tbody>\n",
       "    <tr>\n",
       "      <th>2019-01-02</th>\n",
       "      <td>34.009998</td>\n",
       "      <td>34.009998</td>\n",
       "      <td>30.090000</td>\n",
       "      <td>30.090000</td>\n",
       "      <td>0</td>\n",
       "    </tr>\n",
       "    <tr>\n",
       "      <th>2019-01-03</th>\n",
       "      <td>31.430000</td>\n",
       "      <td>32.939999</td>\n",
       "      <td>31.010000</td>\n",
       "      <td>32.180000</td>\n",
       "      <td>0</td>\n",
       "    </tr>\n",
       "    <tr>\n",
       "      <th>2019-01-04</th>\n",
       "      <td>30.620001</td>\n",
       "      <td>30.990000</td>\n",
       "      <td>28.230000</td>\n",
       "      <td>28.570000</td>\n",
       "      <td>0</td>\n",
       "    </tr>\n",
       "    <tr>\n",
       "      <th>2019-01-07</th>\n",
       "      <td>29.469999</td>\n",
       "      <td>29.549999</td>\n",
       "      <td>28.240000</td>\n",
       "      <td>28.530001</td>\n",
       "      <td>0</td>\n",
       "    </tr>\n",
       "    <tr>\n",
       "      <th>2019-01-08</th>\n",
       "      <td>27.840000</td>\n",
       "      <td>29.420000</td>\n",
       "      <td>27.580000</td>\n",
       "      <td>27.660000</td>\n",
       "      <td>0</td>\n",
       "    </tr>\n",
       "    <tr>\n",
       "      <th>...</th>\n",
       "      <td>...</td>\n",
       "      <td>...</td>\n",
       "      <td>...</td>\n",
       "      <td>...</td>\n",
       "      <td>...</td>\n",
       "    </tr>\n",
       "    <tr>\n",
       "      <th>2025-04-24</th>\n",
       "      <td>31.299999</td>\n",
       "      <td>31.340000</td>\n",
       "      <td>29.799999</td>\n",
       "      <td>29.959999</td>\n",
       "      <td>0</td>\n",
       "    </tr>\n",
       "    <tr>\n",
       "      <th>2025-04-25</th>\n",
       "      <td>30.299999</td>\n",
       "      <td>30.580000</td>\n",
       "      <td>28.129999</td>\n",
       "      <td>28.370001</td>\n",
       "      <td>0</td>\n",
       "    </tr>\n",
       "    <tr>\n",
       "      <th>2025-04-28</th>\n",
       "      <td>28.920000</td>\n",
       "      <td>30.340000</td>\n",
       "      <td>28.190001</td>\n",
       "      <td>28.540001</td>\n",
       "      <td>0</td>\n",
       "    </tr>\n",
       "    <tr>\n",
       "      <th>2025-04-29</th>\n",
       "      <td>29.180000</td>\n",
       "      <td>29.200001</td>\n",
       "      <td>26.930000</td>\n",
       "      <td>27.600000</td>\n",
       "      <td>0</td>\n",
       "    </tr>\n",
       "    <tr>\n",
       "      <th>2025-04-30</th>\n",
       "      <td>29.830000</td>\n",
       "      <td>31.420000</td>\n",
       "      <td>22.549999</td>\n",
       "      <td>27.799999</td>\n",
       "      <td>0</td>\n",
       "    </tr>\n",
       "  </tbody>\n",
       "</table>\n",
       "<p>1590 rows × 5 columns</p>\n",
       "</div>"
      ],
      "text/plain": [
       "Price            Open       High        Low      Close  Volume\n",
       "Date                                                          \n",
       "2019-01-02  34.009998  34.009998  30.090000  30.090000       0\n",
       "2019-01-03  31.430000  32.939999  31.010000  32.180000       0\n",
       "2019-01-04  30.620001  30.990000  28.230000  28.570000       0\n",
       "2019-01-07  29.469999  29.549999  28.240000  28.530001       0\n",
       "2019-01-08  27.840000  29.420000  27.580000  27.660000       0\n",
       "...               ...        ...        ...        ...     ...\n",
       "2025-04-24  31.299999  31.340000  29.799999  29.959999       0\n",
       "2025-04-25  30.299999  30.580000  28.129999  28.370001       0\n",
       "2025-04-28  28.920000  30.340000  28.190001  28.540001       0\n",
       "2025-04-29  29.180000  29.200001  26.930000  27.600000       0\n",
       "2025-04-30  29.830000  31.420000  22.549999  27.799999       0\n",
       "\n",
       "[1590 rows x 5 columns]"
      ]
     },
     "execution_count": 49,
     "metadata": {},
     "output_type": "execute_result"
    }
   ],
   "source": [
    "vxn_data"
   ]
  },
  {
   "cell_type": "code",
   "execution_count": 50,
   "id": "37ae4fcc",
   "metadata": {},
   "outputs": [
    {
     "data": {
      "application/vnd.microsoft.datawrangler.viewer.v0+json": {
       "columns": [
        {
         "name": "index",
         "rawType": "datetime64[ns]",
         "type": "datetime"
        },
        {
         "name": "Open",
         "rawType": "float64",
         "type": "float"
        },
        {
         "name": "High",
         "rawType": "float64",
         "type": "float"
        },
        {
         "name": "Low",
         "rawType": "float64",
         "type": "float"
        },
        {
         "name": "Close",
         "rawType": "float64",
         "type": "float"
        },
        {
         "name": "Volume",
         "rawType": "int64",
         "type": "integer"
        }
       ],
       "conversionMethod": "pd.DataFrame",
       "ref": "8de1e0ef-4eca-4193-ade7-ee1bc15488e9",
       "rows": [
        [
         "2019-01-02 00:00:00",
         "36.94446185817818",
         "37.889005195870084",
         "36.7870373619735",
         "37.667179107666016",
         "148158800"
        ],
        [
         "2019-01-03 00:00:00",
         "34.34220305872549",
         "34.75723031072386",
         "33.86993317854554",
         "33.915252685546875",
         "365248800"
        ],
        [
         "2019-01-04 00:00:00",
         "34.473379250285134",
         "35.43223300412716",
         "34.29926024537896",
         "35.363059997558594",
         "234428400"
        ],
        [
         "2019-01-07 00:00:00",
         "35.46802857200159",
         "35.49903742871124",
         "34.80016986131174",
         "35.284366607666016",
         "219111200"
        ],
        [
         "2019-01-08 00:00:00",
         "35.67314533765117",
         "36.21220429826707",
         "35.42508548038979",
         "35.95698547363281",
         "164101200"
        ],
        [
         "2019-01-09 00:00:00",
         "36.085795047293445",
         "36.85860342436368",
         "35.6898534519375",
         "36.56760787963867",
         "180396400"
        ],
        [
         "2019-01-10 00:00:00",
         "36.374393604523746",
         "36.725019197972834",
         "35.98321994347292",
         "36.684471130371094",
         "143122800"
        ],
        [
         "2019-01-11 00:00:00",
         "36.46504026047846",
         "36.66062531231102",
         "36.138264476061444",
         "36.324310302734375",
         "108092800"
        ],
        [
         "2019-01-14 00:00:00",
         "35.98083540458543",
         "36.08101362384701",
         "35.59204564638746",
         "35.77809143066406",
         "129756800"
        ],
        [
         "2019-01-15 00:00:00",
         "35.84249087885893",
         "36.586673971627846",
         "35.790016056724156",
         "36.51034927368164",
         "114843600"
        ],
        [
         "2019-01-16 00:00:00",
         "36.51273805392303",
         "37.180596538089034",
         "36.49365596699989",
         "36.95638656616211",
         "122278800"
        ],
        [
         "2019-01-17 00:00:00",
         "36.77988943935679",
         "37.60517262297568",
         "36.55567940983745",
         "37.17583465576172",
         "119284800"
        ],
        [
         "2019-01-18 00:00:00",
         "37.56700416186809",
         "37.657643177830934",
         "37.204451737553185",
         "37.40481185913086",
         "135004000"
        ],
        [
         "2019-01-22 00:00:00",
         "37.30701542527696",
         "37.38334014007424",
         "36.403020131262494",
         "36.565216064453125",
         "121576000"
        ],
        [
         "2019-01-23 00:00:00",
         "36.767955347001276",
         "37.00409209177719",
         "36.183580504575076",
         "36.713096618652344",
         "92522400"
        ],
        [
         "2019-01-24 00:00:00",
         "36.75841118449114",
         "36.84666264513592",
         "36.19311850602909",
         "36.422096252441406",
         "101766000"
        ],
        [
         "2019-01-25 00:00:00",
         "37.08519383855514",
         "37.71727581628737",
         "36.80851261930045",
         "37.62902069091797",
         "134142000"
        ],
        [
         "2019-01-28 00:00:00",
         "37.15912151662612",
         "37.2879246747591",
         "36.651075129315025",
         "37.28076934814453",
         "104768400"
        ],
        [
         "2019-01-29 00:00:00",
         "37.26886174661452",
         "37.717281855801716",
         "36.75842756171438",
         "36.89438247680664",
         "166348800"
        ],
        [
         "2019-01-30 00:00:00",
         "38.93849370266774",
         "39.63020208904466",
         "38.2181603651777",
         "39.41553497314453",
         "244439200"
        ],
        [
         "2019-01-31 00:00:00",
         "39.62066671326708",
         "40.30999127047661",
         "39.25095896483175",
         "39.699378967285156",
         "162958400"
        ],
        [
         "2019-02-01 00:00:00",
         "39.82341357723608",
         "40.30522272121144",
         "39.57773393313214",
         "39.71846389770508",
         "130672400"
        ],
        [
         "2019-02-04 00:00:00",
         "39.930742207164776",
         "40.94445495233008",
         "39.89973335854342",
         "40.84666061401367",
         "125982000"
        ],
        [
         "2019-02-05 00:00:00",
         "41.23068680688681",
         "41.760203032262986",
         "41.10904256466571",
         "41.5455322265625",
         "144406400"
        ],
        [
         "2019-02-06 00:00:00",
         "41.65763186066964",
         "41.87707407091184",
         "41.2282975838094",
         "41.55984115600586",
         "112958400"
        ],
        [
         "2019-02-07 00:00:00",
         "41.12096614099471",
         "41.48829004745957",
         "40.62961409426362",
         "40.772727966308594",
         "126966800"
        ],
        [
         "2019-02-08 00:00:00",
         "40.48048896716693",
         "40.880526485692926",
         "40.34394731115654",
         "40.820640563964844",
         "95280000"
        ],
        [
         "2019-02-11 00:00:00",
         "40.97393964039359",
         "41.01226749936198",
         "40.54276036486366",
         "40.58587646484375",
         "83973600"
        ],
        [
         "2019-02-12 00:00:00",
         "40.74638145519575",
         "40.96196930527016",
         "40.65056179004875",
         "40.93561935424805",
         "89134000"
        ],
        [
         "2019-02-13 00:00:00",
         "41.05538669141581",
         "41.31648839690441",
         "40.703257227808",
         "40.76553726196289",
         "89960800"
        ],
        [
         "2019-02-14 00:00:00",
         "40.65294559680587",
         "41.024235249333614",
         "40.573895770902965",
         "40.91404724121094",
         "87342800"
        ],
        [
         "2019-02-15 00:00:00",
         "41.02184640012285",
         "41.12964030196994",
         "40.66253095720206",
         "40.82302474975586",
         "98507200"
        ],
        [
         "2019-02-19 00:00:00",
         "40.652950567331295",
         "41.06736001881353",
         "40.600250676952555",
         "40.9451904296875",
         "75891200"
        ],
        [
         "2019-02-20 00:00:00",
         "41.00747107397199",
         "41.51770013159029",
         "40.959563083125786",
         "41.20868682861328",
         "104457600"
        ],
        [
         "2019-02-21 00:00:00",
         "41.153589561516775",
         "41.290127507368545",
         "40.7942741759188",
         "40.97632598876953",
         "68998800"
        ],
        [
         "2019-02-22 00:00:00",
         "41.10089150487306",
         "41.441042979730874",
         "41.052983515694336",
         "41.43385696411133",
         "75652800"
        ],
        [
         "2019-02-25 00:00:00",
         "41.71892491494741",
         "42.12854252874818",
         "41.66861913782732",
         "41.73569107055664",
         "87493600"
        ],
        [
         "2019-02-26 00:00:00",
         "41.611127666272104",
         "41.992001179873725",
         "41.481772052691156",
         "41.7596435546875",
         "68280800"
        ],
        [
         "2019-02-27 00:00:00",
         "41.49135267211243",
         "41.920134150299994",
         "41.3763691010239",
         "41.88899230957031",
         "111341600"
        ],
        [
         "2019-02-28 00:00:00",
         "41.75724756718137",
         "41.89857743242861",
         "41.42188429023783",
         "41.47697830200195",
         "112861600"
        ],
        [
         "2019-03-01 00:00:00",
         "41.747662921340286",
         "41.95606470668543",
         "41.41469742681215",
         "41.91294860839844",
         "103544800"
        ],
        [
         "2019-03-04 00:00:00",
         "42.0854171100522",
         "42.57887635812763",
         "41.67340181153097",
         "42.12374496459961",
         "109744800"
        ],
        [
         "2019-03-05 00:00:00",
         "42.145310025383104",
         "42.15968205944365",
         "41.80994672500447",
         "42.047096252441406",
         "78949600"
        ],
        [
         "2019-03-06 00:00:00",
         "41.84108297341277",
         "42.03751049302754",
         "41.666217157151316",
         "41.805152893066406",
         "83241600"
        ],
        [
         "2019-03-07 00:00:00",
         "41.649447388331524",
         "41.78598900406581",
         "41.20629389135005",
         "41.32127380371094",
         "99185600"
        ],
        [
         "2019-03-08 00:00:00",
         "40.79907743421472",
         "41.45782249127964",
         "40.602649880910676",
         "41.41949462890625",
         "95997600"
        ],
        [
         "2019-03-11 00:00:00",
         "42.03751758258375",
         "42.90705856992178",
         "42.00398161688953",
         "42.8543586730957",
         "128044000"
        ],
        [
         "2019-03-12 00:00:00",
         "43.117856536178195",
         "43.757437636180654",
         "42.96694286865486",
         "43.33584213256836",
         "129870400"
        ],
        [
         "2019-03-13 00:00:00",
         "43.6568253981783",
         "43.90834693397059",
         "43.33823194019415",
         "43.52747344970703",
         "124130000"
        ],
        [
         "2019-03-14 00:00:00",
         "44.05207070155969",
         "44.09998235016081",
         "43.73108312474761",
         "44.011348724365234",
         "94318000"
        ]
       ],
       "shape": {
        "columns": 5,
        "rows": 1591
       }
      },
      "text/html": [
       "<div>\n",
       "<style scoped>\n",
       "    .dataframe tbody tr th:only-of-type {\n",
       "        vertical-align: middle;\n",
       "    }\n",
       "\n",
       "    .dataframe tbody tr th {\n",
       "        vertical-align: top;\n",
       "    }\n",
       "\n",
       "    .dataframe thead th {\n",
       "        text-align: right;\n",
       "    }\n",
       "</style>\n",
       "<table border=\"1\" class=\"dataframe\">\n",
       "  <thead>\n",
       "    <tr style=\"text-align: right;\">\n",
       "      <th>Price</th>\n",
       "      <th>Open</th>\n",
       "      <th>High</th>\n",
       "      <th>Low</th>\n",
       "      <th>Close</th>\n",
       "      <th>Volume</th>\n",
       "    </tr>\n",
       "  </thead>\n",
       "  <tbody>\n",
       "    <tr>\n",
       "      <th>2019-01-02</th>\n",
       "      <td>36.944462</td>\n",
       "      <td>37.889005</td>\n",
       "      <td>36.787037</td>\n",
       "      <td>37.667179</td>\n",
       "      <td>148158800</td>\n",
       "    </tr>\n",
       "    <tr>\n",
       "      <th>2019-01-03</th>\n",
       "      <td>34.342203</td>\n",
       "      <td>34.757230</td>\n",
       "      <td>33.869933</td>\n",
       "      <td>33.915253</td>\n",
       "      <td>365248800</td>\n",
       "    </tr>\n",
       "    <tr>\n",
       "      <th>2019-01-04</th>\n",
       "      <td>34.473379</td>\n",
       "      <td>35.432233</td>\n",
       "      <td>34.299260</td>\n",
       "      <td>35.363060</td>\n",
       "      <td>234428400</td>\n",
       "    </tr>\n",
       "    <tr>\n",
       "      <th>2019-01-07</th>\n",
       "      <td>35.468029</td>\n",
       "      <td>35.499037</td>\n",
       "      <td>34.800170</td>\n",
       "      <td>35.284367</td>\n",
       "      <td>219111200</td>\n",
       "    </tr>\n",
       "    <tr>\n",
       "      <th>2019-01-08</th>\n",
       "      <td>35.673145</td>\n",
       "      <td>36.212204</td>\n",
       "      <td>35.425085</td>\n",
       "      <td>35.956985</td>\n",
       "      <td>164101200</td>\n",
       "    </tr>\n",
       "    <tr>\n",
       "      <th>...</th>\n",
       "      <td>...</td>\n",
       "      <td>...</td>\n",
       "      <td>...</td>\n",
       "      <td>...</td>\n",
       "      <td>...</td>\n",
       "    </tr>\n",
       "    <tr>\n",
       "      <th>2025-04-24</th>\n",
       "      <td>204.889999</td>\n",
       "      <td>208.830002</td>\n",
       "      <td>202.940002</td>\n",
       "      <td>208.369995</td>\n",
       "      <td>47311000</td>\n",
       "    </tr>\n",
       "    <tr>\n",
       "      <th>2025-04-25</th>\n",
       "      <td>206.369995</td>\n",
       "      <td>209.750000</td>\n",
       "      <td>206.199997</td>\n",
       "      <td>209.279999</td>\n",
       "      <td>38222300</td>\n",
       "    </tr>\n",
       "    <tr>\n",
       "      <th>2025-04-28</th>\n",
       "      <td>210.000000</td>\n",
       "      <td>211.500000</td>\n",
       "      <td>207.460007</td>\n",
       "      <td>210.139999</td>\n",
       "      <td>38743100</td>\n",
       "    </tr>\n",
       "    <tr>\n",
       "      <th>2025-04-29</th>\n",
       "      <td>208.690002</td>\n",
       "      <td>212.240005</td>\n",
       "      <td>208.369995</td>\n",
       "      <td>211.210007</td>\n",
       "      <td>36827600</td>\n",
       "    </tr>\n",
       "    <tr>\n",
       "      <th>2025-04-30</th>\n",
       "      <td>209.300003</td>\n",
       "      <td>213.539993</td>\n",
       "      <td>206.670502</td>\n",
       "      <td>212.500000</td>\n",
       "      <td>50180958</td>\n",
       "    </tr>\n",
       "  </tbody>\n",
       "</table>\n",
       "<p>1591 rows × 5 columns</p>\n",
       "</div>"
      ],
      "text/plain": [
       "Price             Open        High         Low       Close     Volume\n",
       "2019-01-02   36.944462   37.889005   36.787037   37.667179  148158800\n",
       "2019-01-03   34.342203   34.757230   33.869933   33.915253  365248800\n",
       "2019-01-04   34.473379   35.432233   34.299260   35.363060  234428400\n",
       "2019-01-07   35.468029   35.499037   34.800170   35.284367  219111200\n",
       "2019-01-08   35.673145   36.212204   35.425085   35.956985  164101200\n",
       "...                ...         ...         ...         ...        ...\n",
       "2025-04-24  204.889999  208.830002  202.940002  208.369995   47311000\n",
       "2025-04-25  206.369995  209.750000  206.199997  209.279999   38222300\n",
       "2025-04-28  210.000000  211.500000  207.460007  210.139999   38743100\n",
       "2025-04-29  208.690002  212.240005  208.369995  211.210007   36827600\n",
       "2025-04-30  209.300003  213.539993  206.670502  212.500000   50180958\n",
       "\n",
       "[1591 rows x 5 columns]"
      ]
     },
     "execution_count": 50,
     "metadata": {},
     "output_type": "execute_result"
    }
   ],
   "source": [
    "data"
   ]
  },
  {
   "cell_type": "code",
   "execution_count": 52,
   "id": "cb4633eb",
   "metadata": {},
   "outputs": [
    {
     "ename": "KeyError",
     "evalue": "'Date'",
     "output_type": "error",
     "traceback": [
      "\u001b[31m---------------------------------------------------------------------------\u001b[39m",
      "\u001b[31mKeyError\u001b[39m                                  Traceback (most recent call last)",
      "\u001b[32m/var/folders/g5/7jz6q13d1lvdvrgms18qwq780000gn/T/ipykernel_45300/2679081517.py\u001b[39m in \u001b[36m?\u001b[39m\u001b[34m()\u001b[39m\n\u001b[32m      1\u001b[39m \u001b[38;5;66;03m# join data and vxn on date\u001b[39;00m\n\u001b[32m      2\u001b[39m \u001b[38;5;66;03m# join data and yield curve on date\u001b[39;00m\n\u001b[32m----> \u001b[39m\u001b[32m3\u001b[39m data = data.join(vxn_data, on=\u001b[33m\"Date\"\u001b[39m, rsuffix=\u001b[33m\"_VXN\"\u001b[39m)\n",
      "\u001b[32m~/Local/gestion-quantitative/.venv/lib/python3.11/site-packages/pandas/core/frame.py\u001b[39m in \u001b[36m?\u001b[39m\u001b[34m(self, other, on, how, lsuffix, rsuffix, sort, validate)\u001b[39m\n\u001b[32m  10753\u001b[39m                     suffixes=(lsuffix, rsuffix),\n\u001b[32m  10754\u001b[39m                     sort=sort,\n\u001b[32m  10755\u001b[39m                     validate=validate,\n\u001b[32m  10756\u001b[39m                 )\n\u001b[32m> \u001b[39m\u001b[32m10757\u001b[39m             return merge(\n\u001b[32m  10758\u001b[39m                 self,\n\u001b[32m  10759\u001b[39m                 other,\n\u001b[32m  10760\u001b[39m                 left_on=on,\n",
      "\u001b[32m~/Local/gestion-quantitative/.venv/lib/python3.11/site-packages/pandas/core/reshape/merge.py\u001b[39m in \u001b[36m?\u001b[39m\u001b[34m(left, right, how, on, left_on, right_on, left_index, right_index, sort, suffixes, copy, indicator, validate)\u001b[39m\n\u001b[32m    166\u001b[39m             validate=validate,\n\u001b[32m    167\u001b[39m             copy=copy,\n\u001b[32m    168\u001b[39m         )\n\u001b[32m    169\u001b[39m     \u001b[38;5;28;01melse\u001b[39;00m:\n\u001b[32m--> \u001b[39m\u001b[32m170\u001b[39m         op = _MergeOperation(\n\u001b[32m    171\u001b[39m             left_df,\n\u001b[32m    172\u001b[39m             right_df,\n\u001b[32m    173\u001b[39m             how=how,\n",
      "\u001b[32m~/Local/gestion-quantitative/.venv/lib/python3.11/site-packages/pandas/core/reshape/merge.py\u001b[39m in \u001b[36m?\u001b[39m\u001b[34m(self, left, right, how, on, left_on, right_on, left_index, right_index, sort, suffixes, indicator, validate)\u001b[39m\n\u001b[32m    790\u001b[39m             self.right_join_keys,\n\u001b[32m    791\u001b[39m             self.join_names,\n\u001b[32m    792\u001b[39m             left_drop,\n\u001b[32m    793\u001b[39m             right_drop,\n\u001b[32m--> \u001b[39m\u001b[32m794\u001b[39m         ) = self._get_merge_keys()\n\u001b[32m    795\u001b[39m \n\u001b[32m    796\u001b[39m         \u001b[38;5;28;01mif\u001b[39;00m left_drop:\n\u001b[32m    797\u001b[39m             self.left = self.left._drop_labels_or_levels(left_drop)\n",
      "\u001b[32m~/Local/gestion-quantitative/.venv/lib/python3.11/site-packages/pandas/core/reshape/merge.py\u001b[39m in \u001b[36m?\u001b[39m\u001b[34m(self)\u001b[39m\n\u001b[32m   1323\u001b[39m                 \u001b[38;5;28;01melse\u001b[39;00m:\n\u001b[32m   1324\u001b[39m                     \u001b[38;5;66;03m# Then we're either Hashable or a wrong-length arraylike,\u001b[39;00m\n\u001b[32m   1325\u001b[39m                     \u001b[38;5;66;03m#  the latter of which will raise\u001b[39;00m\n\u001b[32m   1326\u001b[39m                     k = cast(Hashable, k)\n\u001b[32m-> \u001b[39m\u001b[32m1327\u001b[39m                     left_keys.append(left._get_label_or_level_values(k))\n\u001b[32m   1328\u001b[39m                     join_names.append(k)\n\u001b[32m   1329\u001b[39m             \u001b[38;5;28;01mif\u001b[39;00m isinstance(self.right.index, MultiIndex):\n\u001b[32m   1330\u001b[39m                 right_keys = [\n",
      "\u001b[32m~/Local/gestion-quantitative/.venv/lib/python3.11/site-packages/pandas/core/generic.py\u001b[39m in \u001b[36m?\u001b[39m\u001b[34m(self, key, axis)\u001b[39m\n\u001b[32m   1907\u001b[39m             values = self.xs(key, axis=other_axes[\u001b[32m0\u001b[39m])._values\n\u001b[32m   1908\u001b[39m         \u001b[38;5;28;01melif\u001b[39;00m self._is_level_reference(key, axis=axis):\n\u001b[32m   1909\u001b[39m             values = self.axes[axis].get_level_values(key)._values\n\u001b[32m   1910\u001b[39m         \u001b[38;5;28;01melse\u001b[39;00m:\n\u001b[32m-> \u001b[39m\u001b[32m1911\u001b[39m             \u001b[38;5;28;01mraise\u001b[39;00m KeyError(key)\n\u001b[32m   1912\u001b[39m \n\u001b[32m   1913\u001b[39m         \u001b[38;5;66;03m# Check for duplicates\u001b[39;00m\n\u001b[32m   1914\u001b[39m         \u001b[38;5;28;01mif\u001b[39;00m values.ndim > \u001b[32m1\u001b[39m:\n",
      "\u001b[31mKeyError\u001b[39m: 'Date'"
     ]
    }
   ],
   "source": [
    "# join data and vxn on date\n",
    "# join data and yield curve on date\n",
    "data = data.join(vxn_data, on=\"Date\", rsuffix=\"_VXN\")"
   ]
  },
  {
   "cell_type": "code",
   "execution_count": null,
   "id": "93b5ef6c",
   "metadata": {},
   "outputs": [],
   "source": []
  }
 ],
 "metadata": {
  "kernelspec": {
   "display_name": ".venv",
   "language": "python",
   "name": "python3"
  },
  "language_info": {
   "codemirror_mode": {
    "name": "ipython",
    "version": 3
   },
   "file_extension": ".py",
   "mimetype": "text/x-python",
   "name": "python",
   "nbconvert_exporter": "python",
   "pygments_lexer": "ipython3",
   "version": "3.11.12"
  }
 },
 "nbformat": 4,
 "nbformat_minor": 5
}
